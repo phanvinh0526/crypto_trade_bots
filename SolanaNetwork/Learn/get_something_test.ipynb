{
 "cells": [
  {
   "cell_type": "code",
   "execution_count": 2,
   "metadata": {},
   "outputs": [],
   "source": [
    "import asyncio, json\n",
    "from solana.rpc.async_api import AsyncClient\n",
    "from solana.rpc.api import Client\n",
    "from solders.pubkey import Pubkey\n",
    "from solana.rpc.types import MemcmpOpts\n",
    "import requests"
   ]
  },
  {
   "cell_type": "code",
   "execution_count": 4,
   "metadata": {},
   "outputs": [],
   "source": [
    "url = \"https://solana-mainnet.g.alchemy.com/v2/8lkJ9fP65TFrEXHYY_M6eoc_cxjGZ1IX\"\n"
   ]
  },
  {
   "cell_type": "code",
   "execution_count": 12,
   "metadata": {},
   "outputs": [
    {
     "name": "stdout",
     "output_type": "stream",
     "text": [
      "{\"jsonrpc\":\"2.0\",\"result\":{\"context\":{\"apiVersion\":\"1.18.15\",\"slot\":276147903},\"value\":3097522527},\"id\":1}\n",
      "3.097522527\n"
     ]
    }
   ],
   "source": [
    "payload = {\n",
    "    \"id\": 1,\n",
    "    \"jsonrpc\": \"2.0\",\n",
    "    \"method\": \"getBalance\",\n",
    "    \"params\": [\"9L8c5UVf6ERYbxNK3R4JxqgqNgzRMwwzFG7Ngc8SaFyC\"]\n",
    "}\n",
    "headers = {\n",
    "    \"accept\": \"application/json\",\n",
    "    \"content-type\": \"application/json\"\n",
    "}\n",
    "\n",
    "response = requests.post(url, json=payload, headers=headers)\n",
    "res_json = json.loads(response.text)\n",
    "\n",
    "print(response.text)\n",
    "print(res_json['result']['value'] / 10**9)\n"
   ]
  },
  {
   "cell_type": "code",
   "execution_count": 23,
   "metadata": {},
   "outputs": [
    {
     "name": "stdout",
     "output_type": "stream",
     "text": [
      "{\"jsonrpc\":\"2.0\",\"error\":{\"code\":-32602,\"message\":\"Invalid param: Token mint could not be unpacked\"},\"id\":1}\n"
     ]
    }
   ],
   "source": [
    "payload = {\n",
    "    \"id\": 1,\n",
    "    \"jsonrpc\": \"2.0\",\n",
    "    \"method\": \"getTokenAccountsByOwner\",\n",
    "    \"params\": [\n",
    "        \"J27ma1MPBRvmPJxLqBqQGNECMXDm9L6abFa4duKiPosa\",\n",
    "        {\n",
    "            \"mint\": \"TokenkegQfeZyiNwAJbNbGKPFXCWuBvf9Ss623VQ5DA\"\n",
    "        },\n",
    "        {\n",
    "            \"encoding\": \"jsonParsed\"\n",
    "        }\n",
    "    ]\n",
    "}\n",
    "headers = {\n",
    "    \"accept\": \"application/json\",\n",
    "    \"content-type\": \"application/json\"\n",
    "}\n",
    "\n",
    "response = requests.post(url, json=payload, headers=headers)\n",
    "\n",
    "print(response.text)"
   ]
  },
  {
   "cell_type": "code",
   "execution_count": 35,
   "metadata": {},
   "outputs": [
    {
     "name": "stdout",
     "output_type": "stream",
     "text": [
      "{\"jsonrpc\":\"2.0\",\"id\":0,\"error\":{\"code\":-32602,\"message\":\"getProgramAccounts is not available on the Free tier - upgrade to Growth, Scale, or Enterprise for access. See available methods at https://docs.alchemy.com/alchemy/documentation/apis\"}}\n"
     ]
    }
   ],
   "source": [
    "payload = {\n",
    "    \"id\": 1,\n",
    "    \"jsonrpc\": \"2.0\",\n",
    "    \"method\": \"getProgramAccounts\",\n",
    "    \"params\": [\"TokenkegQfeZyiNwAJbNbGKPFXCWuBvf9Ss623VQ5DA\"]\n",
    "}\n",
    "headers = {\n",
    "    \"accept\": \"application/json\",\n",
    "    \"content-type\": \"application/json\"\n",
    "}\n",
    "\n",
    "response = requests.post(url, json=payload, headers=headers)\n",
    "\n",
    "print(response.text)"
   ]
  },
  {
   "cell_type": "code",
   "execution_count": 15,
   "metadata": {},
   "outputs": [
    {
     "name": "stdout",
     "output_type": "stream",
     "text": [
      "{\"jsonrpc\":\"2.0\",\"result\":{\"blockTime\":1720337352,\"meta\":{\"computeUnitsConsumed\":66359,\"err\":null,\"fee\":5005000,\"innerInstructions\":[{\"index\":2,\"instructions\":[{\"accounts\":[8,1,10,2,3,4,0,12,14,15,9,11],\"data\":\"5jRcjdixRUDHekWfd4tMA4sA1GL5y18Hd\",\"programIdIndex\":11,\"stackHeight\":2},{\"accounts\":[4,3,0],\"data\":\"3JK1oGgzeqN7\",\"programIdIndex\":15,\"stackHeight\":3},{\"accounts\":[9],\"data\":\"2K7nL28PxCW8ejnyCeuMpbYEsANVB92etAuEpeRjTpyqQcvEKLhHcF8DJqyN5vv2PpctkYUDyHzuFZbgwhyBWXya7Mig5muumL43SbB7ghLkJ8o82HVMMPnbUp9Gj85zUcSxTkLLJUXdztMJK9fsidU2yYPqCFFvWTihLVu9BzHA1TuDFGt5VAt2TdfM\",\"programIdIndex\":11,\"stackHeight\":3},{\"accounts\":[0,13],\"data\":\"3Bxs4JLpXEcxY6q5\",\"programIdIndex\":12,\"stackHeight\":2}]}],\"loadedAddresses\":{\"readonly\":[\"ATokenGPvbdGVxr1b2hvZbsiqW5xWH25efTNsLJA8knL\",\"TokenkegQfeZyiNwAJbNbGKPFXCWuBvf9Ss623VQ5DA\",\"SysvarRent111111111111111111111111111111111\"],\"writable\":[\"AVUCZyuT35YSuj4RH7fwiyPu82Djn2Hfg7y2ND2XcnZH\"]},\"logMessages\":[\"Program ComputeBudget111111111111111111111111111111 invoke [1]\",\"Program ComputeBudget111111111111111111111111111111 success\",\"Program ComputeBudget111111111111111111111111111111 invoke [1]\",\"Program ComputeBudget111111111111111111111111111111 success\",\"Program BSfD6SHZigAfDWSjzD5Q41jw8LmKwtmjskPH9XW1mrRW invoke [1]\",\"Program log: Instruction: PumpSell\",\"Program 6EF8rrecthR5Dkzon8Nwu78hRvfCKubJ14M5uBEwF6P invoke [2]\",\"Program log: Instruction: Sell\",\"Program TokenkegQfeZyiNwAJbNbGKPFXCWuBvf9Ss623VQ5DA invoke [3]\",\"Program log: Instruction: Transfer\",\"Program TokenkegQfeZyiNwAJbNbGKPFXCWuBvf9Ss623VQ5DA consumed 4645 of 99072 compute units\",\"Program TokenkegQfeZyiNwAJbNbGKPFXCWuBvf9Ss623VQ5DA success\",\"Program 6EF8rrecthR5Dkzon8Nwu78hRvfCKubJ14M5uBEwF6P invoke [3]\",\"Program 6EF8rrecthR5Dkzon8Nwu78hRvfCKubJ14M5uBEwF6P consumed 2003 of 90942 compute units\",\"Program 6EF8rrecthR5Dkzon8Nwu78hRvfCKubJ14M5uBEwF6P success\",\"Program data: vdt/007mYe786/H7hPvGbkoWjJQDLC7OHGJ2UFryRr8cV9LD2SMu3/cQNgAAAAAAHQMLhRwAAAAAy7wYP2G4ajp0xUlHwZHarunGNBE1L2z3YFiavoTBe7XIQ4pmAAAAAIyruBoHAAAATSDEZ3q/AwCM/5QeAAAAAE2IsRvpwAIA\",\"Program 6EF8rrecthR5Dkzon8Nwu78hRvfCKubJ14M5uBEwF6P consumed 40918 of 128131 compute units\",\"Program 6EF8rrecthR5Dkzon8Nwu78hRvfCKubJ14M5uBEwF6P success\",\"Program 11111111111111111111111111111111 invoke [2]\",\"Program 11111111111111111111111111111111 success\",\"Program BSfD6SHZigAfDWSjzD5Q41jw8LmKwtmjskPH9XW1mrRW consumed 65909 of 149700 compute units\",\"Program BSfD6SHZigAfDWSjzD5Q41jw8LmKwtmjskPH9XW1mrRW success\",\"Program 11111111111111111111111111111111 invoke [1]\",\"Program 11111111111111111111111111111111 success\"],\"postBalances\":[10414179742,190457831067132,514313148,2039280,2039280,509417856848,1,1398960,1677360,0,1461600,1141440,1,378306206374,731913600,934087680,1009200],\"postTokenBalances\":[{\"accountIndex\":3,\"mint\":\"J2JQqdAxh4MLyW5Vi9qKu69dzZZWBT65P6LPwGDnpump\",\"owner\":\"48dmhrT6LUf5jEWrmEhgxoDdw412eqa4H16wkKMeRteo\",\"programId\":\"TokenkegQfeZyiNwAJbNbGKPFXCWuBvf9Ss623VQ5DA\",\"uiTokenAmount\":{\"amount\":\"981957377953869\",\"decimals\":6,\"uiAmount\":9.81957377953869E8,\"uiAmountString\":\"981957377.953869\"}},{\"accountIndex\":4,\"mint\":\"J2JQqdAxh4MLyW5Vi9qKu69dzZZWBT65P6LPwGDnpump\",\"owner\":\"EiJ7eQNhWehgNydsaxKdxgqxvo1RPMQMpE4KgWqfvCbE\",\"programId\":\"TokenkegQfeZyiNwAJbNbGKPFXCWuBvf9Ss623VQ5DA\",\"uiTokenAmount\":{\"amount\":\"0\",\"decimals\":6,\"uiAmount\":null,\"uiAmountString\":\"0\"}}],\"preBalances\":[10420712319,190457831031700,517856435,2039280,2039280,509412856848,1,1398960,1677360,0,1461600,1141440,1,378306170942,731913600,934087680,1009200],\"preTokenBalances\":[{\"accountIndex\":3,\"mint\":\"J2JQqdAxh4MLyW5Vi9qKu69dzZZWBT65P6LPwGDnpump\",\"owner\":\"48dmhrT6LUf5jEWrmEhgxoDdw412eqa4H16wkKMeRteo\",\"programId\":\"TokenkegQfeZyiNwAJbNbGKPFXCWuBvf9Ss623VQ5DA\",\"uiTokenAmount\":{\"amount\":\"981834886778160\",\"decimals\":6,\"uiAmount\":9.8183488677816E8,\"uiAmountString\":\"981834886.77816\"}},{\"accountIndex\":4,\"mint\":\"J2JQqdAxh4MLyW5Vi9qKu69dzZZWBT65P6LPwGDnpump\",\"owner\":\"EiJ7eQNhWehgNydsaxKdxgqxvo1RPMQMpE4KgWqfvCbE\",\"programId\":\"TokenkegQfeZyiNwAJbNbGKPFXCWuBvf9Ss623VQ5DA\",\"uiTokenAmount\":{\"amount\":\"122491175709\",\"decimals\":6,\"uiAmount\":122491.175709,\"uiAmountString\":\"122491.175709\"}}],\"rewards\":[],\"status\":{\"Ok\":null}},\"slot\":276156974,\"transaction\":{\"message\":{\"accountKeys\":[\"EiJ7eQNhWehgNydsaxKdxgqxvo1RPMQMpE4KgWqfvCbE\",\"CebN5WGQ4jvEPvsVU4EoHEpgzq1VV7AbicfhtW4xC9iM\",\"48dmhrT6LUf5jEWrmEhgxoDdw412eqa4H16wkKMeRteo\",\"GXodBTb8YmzEa1ETkYQLEcZjKYDuqn8ZAYdJtxALdvXG\",\"AchAESt7cmKg5DtAq3RaFCFgWn29ESmS59g6BsuhevMp\",\"HWEoBxYs7ssKuudEjzjmpfJVX7Dvi7wescFsVx2L5yoY\",\"ComputeBudget111111111111111111111111111111\",\"BSfD6SHZigAfDWSjzD5Q41jw8LmKwtmjskPH9XW1mrRW\",\"4wTV1YmiEkRvAtNtsSGPtUrqRYQMe5SKy2uB4Jjaxnjf\",\"Ce6TQqeHC9p8KetsN6JsjHK7UTZk7nasjjnr7XxXp9F1\",\"J2JQqdAxh4MLyW5Vi9qKu69dzZZWBT65P6LPwGDnpump\",\"6EF8rrecthR5Dkzon8Nwu78hRvfCKubJ14M5uBEwF6P\",\"11111111111111111111111111111111\"],\"addressTableLookups\":[{\"accountKey\":\"4QHABYqrbhcj3EtknQ3dYewAmjuqU9Pstuo7kcCcz3FM\",\"readonlyIndexes\":[10,1,12],\"writableIndexes\":[4]}],\"header\":{\"numReadonlySignedAccounts\":0,\"numReadonlyUnsignedAccounts\":7,\"numRequiredSignatures\":1},\"instructions\":[{\"accounts\":[],\"data\":\"LEJDE7\",\"programIdIndex\":6,\"stackHeight\":null},{\"accounts\":[],\"data\":\"3TnGcFGZy5wM\",\"programIdIndex\":6,\"stackHeight\":null},{\"accounts\":[8,1,9,10,2,3,4,0,13,11,12,14,15,16],\"data\":\"5e1SU32LVWyg3k74pzrVnamHrKuH8e1j3zuLwpRrJFDyphbe39uV77m\",\"programIdIndex\":7,\"stackHeight\":null},{\"accounts\":[0,5],\"data\":\"3Bxs4BcPoFZBeRb5\",\"programIdIndex\":12,\"stackHeight\":null}],\"recentBlockhash\":\"Gtqpb1ZyNG5o7TSLzvyrPARkhy5tzWeGy9DvjJKwttS7\"},\"signatures\":[\"CiVNhcu9pv9hcNw8GCekaQntbowewGcviG9oDr2RJXbYxMuoFD24X7sP7KvacbzmErHmKN8yYzUuaVGaQVGq7cB\"]},\"version\":0},\"id\":1}\n"
     ]
    }
   ],
   "source": [
    "payload = {\n",
    "    \"id\": 1,\n",
    "    \"jsonrpc\": \"2.0\",\n",
    "    \"method\": \"getTransaction\",\n",
    "    \"params\": [\n",
    "        \"CiVNhcu9pv9hcNw8GCekaQntbowewGcviG9oDr2RJXbYxMuoFD24X7sP7KvacbzmErHmKN8yYzUuaVGaQVGq7cB\",\n",
    "        {\n",
    "            \"maxSupportedTransactionVersion\": 0\n",
    "        }\n",
    "    ]\n",
    "}\n",
    "headers = {\n",
    "    \"accept\": \"application/json\",\n",
    "    \"content-type\": \"application/json\"\n",
    "}\n",
    "\n",
    "response = requests.post(url, json=payload, headers=headers)\n",
    "\n",
    "print(response.text)"
   ]
  },
  {
   "cell_type": "code",
   "execution_count": null,
   "metadata": {},
   "outputs": [],
   "source": []
  },
  {
   "cell_type": "code",
   "execution_count": null,
   "metadata": {},
   "outputs": [],
   "source": []
  },
  {
   "cell_type": "code",
   "execution_count": null,
   "metadata": {},
   "outputs": [],
   "source": []
  },
  {
   "cell_type": "code",
   "execution_count": null,
   "metadata": {},
   "outputs": [],
   "source": []
  },
  {
   "cell_type": "code",
   "execution_count": null,
   "metadata": {},
   "outputs": [],
   "source": []
  },
  {
   "cell_type": "code",
   "execution_count": null,
   "metadata": {},
   "outputs": [],
   "source": []
  },
  {
   "cell_type": "code",
   "execution_count": null,
   "metadata": {},
   "outputs": [],
   "source": []
  },
  {
   "cell_type": "markdown",
   "metadata": {},
   "source": []
  },
  {
   "cell_type": "code",
   "execution_count": 34,
   "metadata": {},
   "outputs": [
    {
     "name": "stdout",
     "output_type": "stream",
     "text": [
      "2.722391473\n"
     ]
    },
    {
     "ename": "SolanaRpcException",
     "evalue": "",
     "output_type": "error",
     "traceback": [
      "\u001b[0;31m---------------------------------------------------------------------------\u001b[0m",
      "\u001b[0;31mHTTPStatusError\u001b[0m                           Traceback (most recent call last)",
      "File \u001b[0;32m/opt/homebrew/Caskroom/miniconda/base/lib/python3.10/site-packages/solana/exceptions.py:43\u001b[0m, in \u001b[0;36mhandle_exceptions.<locals>.func_decorator.<locals>.argument_decorator\u001b[0;34m(*args, **kwargs)\u001b[0m\n\u001b[1;32m     42\u001b[0m \u001b[38;5;28;01mtry\u001b[39;00m:\n\u001b[0;32m---> 43\u001b[0m     \u001b[38;5;28;01mreturn\u001b[39;00m \u001b[43mfunc\u001b[49m\u001b[43m(\u001b[49m\u001b[38;5;241;43m*\u001b[39;49m\u001b[43margs\u001b[49m\u001b[43m,\u001b[49m\u001b[43m \u001b[49m\u001b[38;5;241;43m*\u001b[39;49m\u001b[38;5;241;43m*\u001b[39;49m\u001b[43mkwargs\u001b[49m\u001b[43m)\u001b[49m\n\u001b[1;32m     44\u001b[0m \u001b[38;5;28;01mexcept\u001b[39;00m exception_types_caught \u001b[38;5;28;01mas\u001b[39;00m exc:\n",
      "File \u001b[0;32m/opt/homebrew/Caskroom/miniconda/base/lib/python3.10/site-packages/solana/rpc/providers/http.py:48\u001b[0m, in \u001b[0;36mHTTPProvider.make_request\u001b[0;34m(self, body, parser)\u001b[0m\n\u001b[1;32m     47\u001b[0m \u001b[38;5;250m\u001b[39m\u001b[38;5;124;03m\"\"\"Make an HTTP request to an http rpc endpoint.\"\"\"\u001b[39;00m\n\u001b[0;32m---> 48\u001b[0m raw \u001b[38;5;241m=\u001b[39m \u001b[38;5;28;43mself\u001b[39;49m\u001b[38;5;241;43m.\u001b[39;49m\u001b[43mmake_request_unparsed\u001b[49m\u001b[43m(\u001b[49m\u001b[43mbody\u001b[49m\u001b[43m)\u001b[49m\n\u001b[1;32m     49\u001b[0m \u001b[38;5;28;01mreturn\u001b[39;00m _parse_raw(raw, parser\u001b[38;5;241m=\u001b[39mparser)\n",
      "File \u001b[0;32m/opt/homebrew/Caskroom/miniconda/base/lib/python3.10/site-packages/solana/rpc/providers/http.py:55\u001b[0m, in \u001b[0;36mHTTPProvider.make_request_unparsed\u001b[0;34m(self, body)\u001b[0m\n\u001b[1;32m     54\u001b[0m raw_response \u001b[38;5;241m=\u001b[39m httpx\u001b[38;5;241m.\u001b[39mpost(\u001b[38;5;241m*\u001b[39m\u001b[38;5;241m*\u001b[39mrequest_kwargs)\n\u001b[0;32m---> 55\u001b[0m \u001b[38;5;28;01mreturn\u001b[39;00m \u001b[43m_after_request_unparsed\u001b[49m\u001b[43m(\u001b[49m\u001b[43mraw_response\u001b[49m\u001b[43m)\u001b[49m\n",
      "File \u001b[0;32m/opt/homebrew/Caskroom/miniconda/base/lib/python3.10/site-packages/solana/rpc/providers/core.py:136\u001b[0m, in \u001b[0;36m_after_request_unparsed\u001b[0;34m(raw_response)\u001b[0m\n\u001b[1;32m    135\u001b[0m \u001b[38;5;28;01mdef\u001b[39;00m \u001b[38;5;21m_after_request_unparsed\u001b[39m(raw_response: httpx\u001b[38;5;241m.\u001b[39mResponse) \u001b[38;5;241m-\u001b[39m\u001b[38;5;241m>\u001b[39m \u001b[38;5;28mstr\u001b[39m:\n\u001b[0;32m--> 136\u001b[0m     \u001b[43mraw_response\u001b[49m\u001b[38;5;241;43m.\u001b[39;49m\u001b[43mraise_for_status\u001b[49m\u001b[43m(\u001b[49m\u001b[43m)\u001b[49m\n\u001b[1;32m    137\u001b[0m     \u001b[38;5;28;01mreturn\u001b[39;00m raw_response\u001b[38;5;241m.\u001b[39mtext\n",
      "File \u001b[0;32m/opt/homebrew/Caskroom/miniconda/base/lib/python3.10/site-packages/httpx/_models.py:761\u001b[0m, in \u001b[0;36mResponse.raise_for_status\u001b[0;34m(self)\u001b[0m\n\u001b[1;32m    760\u001b[0m message \u001b[38;5;241m=\u001b[39m message\u001b[38;5;241m.\u001b[39mformat(\u001b[38;5;28mself\u001b[39m, error_type\u001b[38;5;241m=\u001b[39merror_type)\n\u001b[0;32m--> 761\u001b[0m \u001b[38;5;28;01mraise\u001b[39;00m HTTPStatusError(message, request\u001b[38;5;241m=\u001b[39mrequest, response\u001b[38;5;241m=\u001b[39m\u001b[38;5;28mself\u001b[39m)\n",
      "\u001b[0;31mHTTPStatusError\u001b[0m: Client error '400 Bad Request' for url 'https://solana-mainnet.g.alchemy.com/v2/8lkJ9fP65TFrEXHYY_M6eoc_cxjGZ1IX'\nFor more information check: https://developer.mozilla.org/en-US/docs/Web/HTTP/Status/400",
      "\nThe above exception was the direct cause of the following exception:\n",
      "\u001b[0;31mSolanaRpcException\u001b[0m                        Traceback (most recent call last)",
      "Cell \u001b[0;32mIn[34], line 16\u001b[0m\n\u001b[1;32m     12\u001b[0m \u001b[38;5;66;03m# Fetch token accounts associated with the wallet\u001b[39;00m\n\u001b[1;32m     13\u001b[0m filters \u001b[38;5;241m=\u001b[39m [\n\u001b[1;32m     14\u001b[0m     MemcmpOpts(offset\u001b[38;5;241m=\u001b[39m\u001b[38;5;241m32\u001b[39m, \u001b[38;5;28mbytes\u001b[39m\u001b[38;5;241m=\u001b[39m\u001b[38;5;28mstr\u001b[39m(wallet_pubkey))\n\u001b[1;32m     15\u001b[0m ]\n\u001b[0;32m---> 16\u001b[0m token_accounts_response \u001b[38;5;241m=\u001b[39m \u001b[38;5;28;01mawait\u001b[39;00m client\u001b[38;5;241m.\u001b[39mget_program_accounts(\n\u001b[1;32m     17\u001b[0m     Pubkey\u001b[38;5;241m.\u001b[39mfrom_string(\u001b[38;5;124m\"\u001b[39m\u001b[38;5;124mTokenkegQfeZyiNwAJbNbGKPFXCWuBvf9Ss623VQ5DA\u001b[39m\u001b[38;5;124m\"\u001b[39m),\n\u001b[1;32m     18\u001b[0m     filters\u001b[38;5;241m=\u001b[39mfilters\n\u001b[1;32m     19\u001b[0m )\n\u001b[1;32m     20\u001b[0m token_accounts \u001b[38;5;241m=\u001b[39m token_accounts_response[\u001b[38;5;124m'\u001b[39m\u001b[38;5;124mresult\u001b[39m\u001b[38;5;124m'\u001b[39m]\n\u001b[1;32m     21\u001b[0m \u001b[38;5;28mprint\u001b[39m(token_accounts)\n",
      "File \u001b[0;32m/opt/homebrew/Caskroom/miniconda/base/lib/python3.10/site-packages/solana/rpc/api.py:650\u001b[0m, in \u001b[0;36mClient.get_program_accounts\u001b[0;34m(self, pubkey, commitment, encoding, data_slice, filters)\u001b[0m\n\u001b[1;32m    622\u001b[0m \u001b[38;5;250m\u001b[39m\u001b[38;5;124;03m\"\"\"Returns all accounts owned by the provided program Pubkey.\u001b[39;00m\n\u001b[1;32m    623\u001b[0m \n\u001b[1;32m    624\u001b[0m \u001b[38;5;124;03mArgs:\u001b[39;00m\n\u001b[0;32m   (...)\u001b[0m\n\u001b[1;32m    641\u001b[0m \u001b[38;5;124;03m    1\u001b[39;00m\n\u001b[1;32m    642\u001b[0m \u001b[38;5;124;03m\"\"\"\u001b[39;00m  \u001b[38;5;66;03m# noqa: E501 # pylint: disable=line-too-long\u001b[39;00m\n\u001b[1;32m    643\u001b[0m body \u001b[38;5;241m=\u001b[39m \u001b[38;5;28mself\u001b[39m\u001b[38;5;241m.\u001b[39m_get_program_accounts_body(\n\u001b[1;32m    644\u001b[0m     pubkey\u001b[38;5;241m=\u001b[39mpubkey,\n\u001b[1;32m    645\u001b[0m     commitment\u001b[38;5;241m=\u001b[39mcommitment,\n\u001b[0;32m   (...)\u001b[0m\n\u001b[1;32m    648\u001b[0m     filters\u001b[38;5;241m=\u001b[39mfilters,\n\u001b[1;32m    649\u001b[0m )\n\u001b[0;32m--> 650\u001b[0m \u001b[38;5;28;01mreturn\u001b[39;00m \u001b[38;5;28;43mself\u001b[39;49m\u001b[38;5;241;43m.\u001b[39;49m\u001b[43m_provider\u001b[49m\u001b[38;5;241;43m.\u001b[39;49m\u001b[43mmake_request\u001b[49m\u001b[43m(\u001b[49m\u001b[43mbody\u001b[49m\u001b[43m,\u001b[49m\u001b[43m \u001b[49m\u001b[43mGetProgramAccountsResp\u001b[49m\u001b[43m)\u001b[49m\n",
      "File \u001b[0;32m/opt/homebrew/Caskroom/miniconda/base/lib/python3.10/site-packages/solana/exceptions.py:45\u001b[0m, in \u001b[0;36mhandle_exceptions.<locals>.func_decorator.<locals>.argument_decorator\u001b[0;34m(*args, **kwargs)\u001b[0m\n\u001b[1;32m     43\u001b[0m     \u001b[38;5;28;01mreturn\u001b[39;00m func(\u001b[38;5;241m*\u001b[39margs, \u001b[38;5;241m*\u001b[39m\u001b[38;5;241m*\u001b[39mkwargs)\n\u001b[1;32m     44\u001b[0m \u001b[38;5;28;01mexcept\u001b[39;00m exception_types_caught \u001b[38;5;28;01mas\u001b[39;00m exc:\n\u001b[0;32m---> 45\u001b[0m     \u001b[38;5;28;01mraise\u001b[39;00m internal_exception_cls(exc, func, \u001b[38;5;241m*\u001b[39margs, \u001b[38;5;241m*\u001b[39m\u001b[38;5;241m*\u001b[39mkwargs) \u001b[38;5;28;01mfrom\u001b[39;00m \u001b[38;5;21;01mexc\u001b[39;00m\n",
      "\u001b[0;31mSolanaRpcException\u001b[0m: "
     ]
    }
   ],
   "source": [
    "MAINNET_SOL_EP = \"https://solana-mainnet.g.alchemy.com/v2/8lkJ9fP65TFrEXHYY_M6eoc_cxjGZ1IX\"\n",
    "wallet_address = \"9L8c5UVf6ERYbxNK3R4JxqgqNgzRMwwzFG7Ngc8SaFyC\"\n",
    "client = Client(endpoint=MAINNET_SOL_EP)\n",
    "\n",
    "wallet_pubkey = Pubkey.from_string(wallet_address)\n",
    "\n",
    "# Fetch the SOL balance\n",
    "sol_balance_response = client.get_balance(wallet_pubkey)\n",
    "sol_balance = sol_balance_response.value / 10**9  # Convert lamports to SOL\n",
    "print(sol_balance)\n",
    "\n",
    "# Fetch token accounts associated with the wallet\n",
    "filters = [\n",
    "    MemcmpOpts(offset=32, bytes=str(wallet_pubkey))\n",
    "]\n",
    "token_accounts_response = await client.get_program_accounts(\n",
    "    Pubkey.from_string(\"TokenkegQfeZyiNwAJbNbGKPFXCWuBvf9Ss623VQ5DA\"),\n",
    "    filters=filters\n",
    ")\n",
    "token_accounts = token_accounts_response['result']\n",
    "print(token_accounts)\n",
    "\n",
    "# portfolio = {\n",
    "#     \"SOL\": sol_balance,\n",
    "#     \"tokens\": []\n",
    "# }\n",
    "\n",
    "# # Fetch the balance of each token account\n",
    "# for token_account_info in token_accounts:\n",
    "#     account_pubkey = Pubkey.from_string(token_account_info['pubkey'])\n",
    "#     account_data_response = await client.get_token_account_balance(account_pubkey)\n",
    "#     account_data = account_data_response['result']['value']\n",
    "#     token_address = token_account_info['account']['data']['parsed']['info']['mint']\n",
    "    \n",
    "#     portfolio[\"tokens\"].append({\n",
    "#         \"token_address\": token_address,\n",
    "#         \"balance\": account_data['uiAmount']\n",
    "#     })"
   ]
  },
  {
   "cell_type": "code",
   "execution_count": null,
   "metadata": {},
   "outputs": [],
   "source": []
  },
  {
   "cell_type": "code",
   "execution_count": null,
   "metadata": {},
   "outputs": [],
   "source": []
  },
  {
   "cell_type": "code",
   "execution_count": null,
   "metadata": {},
   "outputs": [],
   "source": []
  }
 ],
 "metadata": {
  "kernelspec": {
   "display_name": "base",
   "language": "python",
   "name": "python3"
  },
  "language_info": {
   "codemirror_mode": {
    "name": "ipython",
    "version": 3
   },
   "file_extension": ".py",
   "mimetype": "text/x-python",
   "name": "python",
   "nbconvert_exporter": "python",
   "pygments_lexer": "ipython3",
   "version": "3.10.9"
  }
 },
 "nbformat": 4,
 "nbformat_minor": 2
}
