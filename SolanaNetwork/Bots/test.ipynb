{
 "cells": [
  {
   "cell_type": "code",
   "execution_count": 118,
   "metadata": {},
   "outputs": [],
   "source": [
    "import re\n",
    "import requests\n",
    "from bs4 import BeautifulSoup\n",
    "import psycopg2\n",
    "from psycopg2 import sql\n",
    "import time\n",
    "\n",
    "DATABASE_URL = 'postgres://u7r3q8fi3oil8d:p7c4ab7923edcd720fad4e7373c00c69924b36cd5449778bcf0e5a70268616cdd@cbec45869p4jbu.cluster-czrs8kj4isg7.us-east-1.rds.amazonaws.com:5432/d2jp5l4pcu7iuv'\n",
    "conn    = psycopg2.connect(DATABASE_URL, sslmode=\"require\")\n",
    "cursor  = conn.cursor()\n"
   ]
  },
  {
   "cell_type": "code",
   "execution_count": 119,
   "metadata": {},
   "outputs": [
    {
     "name": "stdout",
     "output_type": "stream",
     "text": [
      "['index_n_gmgn_present']\n"
     ]
    }
   ],
   "source": [
    "TELE_GROUPS = {\n",
    "    # \"index_n_bonkbot_present\": -1002022757177, # -100: search exactly GetHistoryRequest, while positive number is to get cached of a user\n",
    "    \"index_n_gmgn_present\": -1002202241417\n",
    "}\n",
    "\n",
    "print(f\"{list(TELE_GROUPS.keys())}\")\n",
    "\n",
    "def clean_special_characters(value):\n",
    "    # Remove or escape special characters\n",
    "    if isinstance(value, str):\n",
    "        # Example: Removing single quotes and other special characters\n",
    "        value = re.sub(r\"[\\'\\\"\\\\]\", \"\", value)\n",
    "    return str(value)"
   ]
  },
  {
   "cell_type": "code",
   "execution_count": 120,
   "metadata": {},
   "outputs": [
    {
     "name": "stdout",
     "output_type": "stream",
     "text": [
      "1 records have been added to `token_pool_info_summary`.\n",
      "*** 5. Update `token_pool_summary` table | Elapsed time: 0.87sec\n"
     ]
    }
   ],
   "source": [
    "# token_info = [{'network':'Solana','ca':'ca123pump', 'ticker':'ticket01'},{'network':'Solana','ca':'ca456pump','ticker':'ticker02'}]\n",
    "\n",
    "token_info = [{'network': 'test', 'ca': 'cpnkxxmwx38e3pb81adwewofsvxygqlbtwwev7hneq2t', 'ticker': 'trump', 'token_name': 'trump2024', 'description': 'trump2024', 'market_cap': 93919.63, 'liquidity_pool_value': 179235.06, 'total_holder': 48, 'gmgn_url': 'https://gmgn.ai/sol/token/CPnkXXMwX38E3pB81aDwewoFsvXyGqLbTwwev7HneQ2t', 'index_n_smartwallet_bought': 0, 'index_n_gmgn_present': 0, 'index_n_bonkbot_present': 1, 'index_n_follower_twitter': None, 'index_n_subscriber_telegram': 0, 'index_n_twitter_search_result': None, 'twitter_url': None, 'telegram_url': None, 'website_url': None}]\n",
    "\n",
    "# ---\n",
    "def update_token_pool_summary_tbl(conn, cursor, token_info):\n",
    "    \"\"\"The function is to update the token_pool_summary table\n",
    "    Args:\n",
    "        token_info (list): _description_\n",
    "    \"\"\"\n",
    "    try:\n",
    "        # Prepare the insert statement dynamically\n",
    "        start_time = time.time()\n",
    "        queries = \"\"\n",
    "        cols = [f\"p_{item}\" for item in list(token_info[0].keys())]\n",
    "\n",
    "        # Apply SCD Type 2 for every single token, and insert into token_pool_summary table\n",
    "        for row in token_info:\n",
    "            # Clean data input\n",
    "            values = [clean_special_characters(val) for val in row.values()]\n",
    "            values = list(map(\":=\".join, zip(cols, values)))\n",
    "            values = (str(values).replace(\":=\", \":='\").replace(\", '\", \", \").replace(\"['\", '').replace(']', '')).replace('\"', '')\n",
    "\n",
    "            # Prepare insert statement\n",
    "            scd2_statement = (\"\"\"\n",
    "                SELECT update_scd_to_token_pool_info_summary({parameters});\n",
    "            \"\"\").format(\n",
    "                parameters = values\n",
    "            )\n",
    "            queries += scd2_statement + \"\\n\"\n",
    "\n",
    "        # Execute\n",
    "        try:\n",
    "            cursor.execute(queries)\n",
    "        except (psycopg2.Error) as e:\n",
    "            print(f\"Function `update_token_pool_summary_tbl` | Error inserting row {row}: {e}\")\n",
    "            conn.rollwback() # Rollback the current transaction to skip the faulty row\n",
    "        else:\n",
    "            # Commit transaction\n",
    "            conn.commit()\n",
    "\n",
    "        print(f\"{len(token_info)} records have been added to `token_pool_info_summary`.\")\n",
    "\n",
    "        # Elapse time & return\n",
    "        elapsed_time = round(time.time() - start_time, 2)\n",
    "        print(f\"*** 5. Update `token_pool_summary` table | Elapsed time: {elapsed_time}sec\")\n",
    "\n",
    "    except (Exception) as error:\n",
    "        print(f\"Update `token_pool_summary_tbl` error occured with message {error}\") \n",
    "\n",
    "\n",
    "\n",
    "update_token_pool_summary_tbl(conn, cursor, token_info)"
   ]
  },
  {
   "cell_type": "code",
   "execution_count": 114,
   "metadata": {},
   "outputs": [
    {
     "name": "stdout",
     "output_type": "stream",
     "text": [
      "1: ['Solana', 'cpnkxxmwx38e3pb81adwewofsvxygqlbtwwev7hneq2t', 'trump', 'trump2024', 'trump2024', '93919.63', '179235.06', '48', 'https://gmgn.ai/sol/token/CPnkXXMwX38E3pB81aDwewoFsvXyGqLbTwwev7HneQ2t', '0', '0', '1', 'None', '0', 'None', 'None', 'None', 'None']\n",
      "2: ['p_network:=Solana', 'p_ca:=cpnkxxmwx38e3pb81adwewofsvxygqlbtwwev7hneq2t', 'p_ticker:=trump', 'p_token_name:=trump2024', 'p_description:=trump2024', 'p_market_cap:=93919.63', 'p_liquidity_pool_value:=179235.06', 'p_total_holder:=48', 'p_gmgn_url:=https://gmgn.ai/sol/token/CPnkXXMwX38E3pB81aDwewoFsvXyGqLbTwwev7HneQ2t', 'p_index_n_smartwallet_bought:=0', 'p_index_n_gmgn_present:=0', 'p_index_n_bonkbot_present:=1', 'p_index_n_follower_twitter:=None', 'p_index_n_subscriber_telegram:=0', 'p_index_n_twitter_search_result:=None', 'p_twitter_url:=None', 'p_telegram_url:=None', 'p_website_url:=None']\n",
      "3: p_network:='Solana', p_ca:='cpnkxxmwx38e3pb81adwewofsvxygqlbtwwev7hneq2t', p_ticker:='trump', p_token_name:='trump2024', p_description:='trump2024', p_market_cap:='93919.63', p_liquidity_pool_value:='179235.06', p_total_holder:='48', p_gmgn_url:='https://gmgn.ai/sol/token/CPnkXXMwX38E3pB81aDwewoFsvXyGqLbTwwev7HneQ2t', p_index_n_smartwallet_bought:='0', p_index_n_gmgn_present:='0', p_index_n_bonkbot_present:='1', p_index_n_follower_twitter:='None', p_index_n_subscriber_telegram:='0', p_index_n_twitter_search_result:='None', p_twitter_url:='None', p_telegram_url:='None', p_website_url:='None'\n"
     ]
    }
   ],
   "source": [
    "token_info = [{'network': 'Solana', 'ca': 'cpnkxxmwx38e3pb81adwewofsvxygqlbtwwev7hneq2t', 'ticker': 'trump', 'token_name': 'trump2024', 'description': 'trump2024', 'market_cap': 93919.63, 'liquidity_pool_value': 179235.06, 'total_holder': 48, 'gmgn_url': 'https://gmgn.ai/sol/token/CPnkXXMwX38E3pB81aDwewoFsvXyGqLbTwwev7HneQ2t', 'index_n_smartwallet_bought': 0, 'index_n_gmgn_present': 0, 'index_n_bonkbot_present': 1, 'index_n_follower_twitter': None, 'index_n_subscriber_telegram': 0, 'index_n_twitter_search_result': None, 'twitter_url': None, 'telegram_url': None, 'website_url': None}]\n",
    "\n",
    "# Need to convert it to : [(p_network:='Solana', p_ca:='ca123pump'), (p_network:='Solana', p_ca:='ca456pump')]\n",
    "def clean_special_characters(value):\n",
    "    # Remove or escape special characters\n",
    "    if isinstance(value, str):\n",
    "        # Example: Removing single quotes and other special characters\n",
    "        value = re.sub(r\"[\\'\\\"\\\\]\", \"\", value)\n",
    "    return str(value)\n",
    "\n",
    "cols = [f\"p_{item}\" for item in list(token_info[0].keys())]\n",
    "values = []\n",
    "\n",
    "for row in token_info:\n",
    "    values = [clean_special_characters(val) for val in row.values()]\n",
    "    print(f\"1: {values}\")\n",
    "    values = list(map(\":=\".join, zip(cols, values)))\n",
    "    print(f\"2: {values}\")\n",
    "    values = (str(values).replace(\":=\", \":='\").replace(\", '\", \", \").replace(\"['\", '').replace(']', '')).replace('\"', '')\n",
    "    print(f\"3: {values}\")\n",
    "    "
   ]
  },
  {
   "cell_type": "code",
   "execution_count": 121,
   "metadata": {},
   "outputs": [
    {
     "ename": "NoSuchModuleError",
     "evalue": "Can't load plugin: sqlalchemy.dialects:postgres",
     "output_type": "error",
     "traceback": [
      "\u001b[0;31m---------------------------------------------------------------------------\u001b[0m",
      "\u001b[0;31mNoSuchModuleError\u001b[0m                         Traceback (most recent call last)",
      "Cell \u001b[0;32mIn[121], line 7\u001b[0m\n\u001b[1;32m      4\u001b[0m \u001b[38;5;28;01mimport\u001b[39;00m \u001b[38;5;21;01mos\u001b[39;00m\n\u001b[1;32m      6\u001b[0m DATABASE_URL \u001b[38;5;241m=\u001b[39m \u001b[38;5;124m'\u001b[39m\u001b[38;5;124mpostgres://u7r3q8fi3oil8d:p7c4ab7923edcd720fad4e7373c00c69924b36cd5449778bcf0e5a70268616cdd@cbec45869p4jbu.cluster-czrs8kj4isg7.us-east-1.rds.amazonaws.com:5432/d2jp5l4pcu7iuv\u001b[39m\u001b[38;5;124m'\u001b[39m\n\u001b[0;32m----> 7\u001b[0m engine \u001b[38;5;241m=\u001b[39m \u001b[43mcreate_engine\u001b[49m\u001b[43m(\u001b[49m\u001b[43mDATABASE_URL\u001b[49m\u001b[43m)\u001b[49m\n\u001b[1;32m      8\u001b[0m Session \u001b[38;5;241m=\u001b[39m sessionmaker(bind\u001b[38;5;241m=\u001b[39mengine)\n\u001b[1;32m      9\u001b[0m session \u001b[38;5;241m=\u001b[39m Session()\n",
      "File \u001b[0;32m<string>:2\u001b[0m, in \u001b[0;36mcreate_engine\u001b[0;34m(url, **kwargs)\u001b[0m\n",
      "File \u001b[0;32m/opt/homebrew/Caskroom/miniconda/base/lib/python3.10/site-packages/sqlalchemy/util/deprecations.py:281\u001b[0m, in \u001b[0;36mdeprecated_params.<locals>.decorate.<locals>.warned\u001b[0;34m(fn, *args, **kwargs)\u001b[0m\n\u001b[1;32m    274\u001b[0m     \u001b[38;5;28;01mif\u001b[39;00m m \u001b[38;5;129;01min\u001b[39;00m kwargs:\n\u001b[1;32m    275\u001b[0m         _warn_with_version(\n\u001b[1;32m    276\u001b[0m             messages[m],\n\u001b[1;32m    277\u001b[0m             versions[m],\n\u001b[1;32m    278\u001b[0m             version_warnings[m],\n\u001b[1;32m    279\u001b[0m             stacklevel\u001b[38;5;241m=\u001b[39m\u001b[38;5;241m3\u001b[39m,\n\u001b[1;32m    280\u001b[0m         )\n\u001b[0;32m--> 281\u001b[0m \u001b[38;5;28;01mreturn\u001b[39;00m \u001b[43mfn\u001b[49m\u001b[43m(\u001b[49m\u001b[38;5;241;43m*\u001b[39;49m\u001b[43margs\u001b[49m\u001b[43m,\u001b[49m\u001b[43m \u001b[49m\u001b[38;5;241;43m*\u001b[39;49m\u001b[38;5;241;43m*\u001b[39;49m\u001b[43mkwargs\u001b[49m\u001b[43m)\u001b[49m\n",
      "File \u001b[0;32m/opt/homebrew/Caskroom/miniconda/base/lib/python3.10/site-packages/sqlalchemy/engine/create.py:550\u001b[0m, in \u001b[0;36mcreate_engine\u001b[0;34m(url, **kwargs)\u001b[0m\n\u001b[1;32m    546\u001b[0m u \u001b[38;5;241m=\u001b[39m _url\u001b[38;5;241m.\u001b[39mmake_url(url)\n\u001b[1;32m    548\u001b[0m u, plugins, kwargs \u001b[38;5;241m=\u001b[39m u\u001b[38;5;241m.\u001b[39m_instantiate_plugins(kwargs)\n\u001b[0;32m--> 550\u001b[0m entrypoint \u001b[38;5;241m=\u001b[39m \u001b[43mu\u001b[49m\u001b[38;5;241;43m.\u001b[39;49m\u001b[43m_get_entrypoint\u001b[49m\u001b[43m(\u001b[49m\u001b[43m)\u001b[49m\n\u001b[1;32m    551\u001b[0m _is_async \u001b[38;5;241m=\u001b[39m kwargs\u001b[38;5;241m.\u001b[39mpop(\u001b[38;5;124m\"\u001b[39m\u001b[38;5;124m_is_async\u001b[39m\u001b[38;5;124m\"\u001b[39m, \u001b[38;5;28;01mFalse\u001b[39;00m)\n\u001b[1;32m    552\u001b[0m \u001b[38;5;28;01mif\u001b[39;00m _is_async:\n",
      "File \u001b[0;32m/opt/homebrew/Caskroom/miniconda/base/lib/python3.10/site-packages/sqlalchemy/engine/url.py:758\u001b[0m, in \u001b[0;36mURL._get_entrypoint\u001b[0;34m(self)\u001b[0m\n\u001b[1;32m    756\u001b[0m \u001b[38;5;28;01melse\u001b[39;00m:\n\u001b[1;32m    757\u001b[0m     name \u001b[38;5;241m=\u001b[39m \u001b[38;5;28mself\u001b[39m\u001b[38;5;241m.\u001b[39mdrivername\u001b[38;5;241m.\u001b[39mreplace(\u001b[38;5;124m\"\u001b[39m\u001b[38;5;124m+\u001b[39m\u001b[38;5;124m\"\u001b[39m, \u001b[38;5;124m\"\u001b[39m\u001b[38;5;124m.\u001b[39m\u001b[38;5;124m\"\u001b[39m)\n\u001b[0;32m--> 758\u001b[0m \u001b[38;5;28mcls\u001b[39m \u001b[38;5;241m=\u001b[39m \u001b[43mregistry\u001b[49m\u001b[38;5;241;43m.\u001b[39;49m\u001b[43mload\u001b[49m\u001b[43m(\u001b[49m\u001b[43mname\u001b[49m\u001b[43m)\u001b[49m\n\u001b[1;32m    759\u001b[0m \u001b[38;5;66;03m# check for legacy dialects that\u001b[39;00m\n\u001b[1;32m    760\u001b[0m \u001b[38;5;66;03m# would return a module with 'dialect' as the\u001b[39;00m\n\u001b[1;32m    761\u001b[0m \u001b[38;5;66;03m# actual class\u001b[39;00m\n\u001b[1;32m    762\u001b[0m \u001b[38;5;28;01mif\u001b[39;00m (\n\u001b[1;32m    763\u001b[0m     \u001b[38;5;28mhasattr\u001b[39m(\u001b[38;5;28mcls\u001b[39m, \u001b[38;5;124m\"\u001b[39m\u001b[38;5;124mdialect\u001b[39m\u001b[38;5;124m\"\u001b[39m)\n\u001b[1;32m    764\u001b[0m     \u001b[38;5;129;01mand\u001b[39;00m \u001b[38;5;28misinstance\u001b[39m(\u001b[38;5;28mcls\u001b[39m\u001b[38;5;241m.\u001b[39mdialect, \u001b[38;5;28mtype\u001b[39m)\n\u001b[1;32m    765\u001b[0m     \u001b[38;5;129;01mand\u001b[39;00m \u001b[38;5;28missubclass\u001b[39m(\u001b[38;5;28mcls\u001b[39m\u001b[38;5;241m.\u001b[39mdialect, Dialect)\n\u001b[1;32m    766\u001b[0m ):\n",
      "File \u001b[0;32m/opt/homebrew/Caskroom/miniconda/base/lib/python3.10/site-packages/sqlalchemy/util/langhelpers.py:375\u001b[0m, in \u001b[0;36mPluginLoader.load\u001b[0;34m(self, name)\u001b[0m\n\u001b[1;32m    372\u001b[0m         \u001b[38;5;28mself\u001b[39m\u001b[38;5;241m.\u001b[39mimpls[name] \u001b[38;5;241m=\u001b[39m impl\u001b[38;5;241m.\u001b[39mload\n\u001b[1;32m    373\u001b[0m         \u001b[38;5;28;01mreturn\u001b[39;00m impl\u001b[38;5;241m.\u001b[39mload()\n\u001b[0;32m--> 375\u001b[0m \u001b[38;5;28;01mraise\u001b[39;00m exc\u001b[38;5;241m.\u001b[39mNoSuchModuleError(\n\u001b[1;32m    376\u001b[0m     \u001b[38;5;124m\"\u001b[39m\u001b[38;5;124mCan\u001b[39m\u001b[38;5;124m'\u001b[39m\u001b[38;5;124mt load plugin: \u001b[39m\u001b[38;5;132;01m%s\u001b[39;00m\u001b[38;5;124m:\u001b[39m\u001b[38;5;132;01m%s\u001b[39;00m\u001b[38;5;124m\"\u001b[39m \u001b[38;5;241m%\u001b[39m (\u001b[38;5;28mself\u001b[39m\u001b[38;5;241m.\u001b[39mgroup, name)\n\u001b[1;32m    377\u001b[0m )\n",
      "\u001b[0;31mNoSuchModuleError\u001b[0m: Can't load plugin: sqlalchemy.dialects:postgres"
     ]
    }
   ],
   "source": [
    "from sqlalchemy import create_engine, Column, Integer, String, LargeBinary\n",
    "from sqlalchemy.ext.declarative import declarative_base\n",
    "from sqlalchemy.orm import sessionmaker\n",
    "import os\n",
    "\n",
    "DATABASE_URL = 'postgres://u7r3q8fi3oil8d:p7c4ab7923edcd720fad4e7373c00c69924b36cd5449778bcf0e5a70268616cdd@cbec45869p4jbu.cluster-czrs8kj4isg7.us-east-1.rds.amazonaws.com:5432/d2jp5l4pcu7iuv'\n",
    "engine = create_engine(DATABASE_URL)\n",
    "Session = sessionmaker(bind=engine)\n",
    "session = Session()\n",
    "Base = declarative_base()\n"
   ]
  },
  {
   "cell_type": "code",
   "execution_count": null,
   "metadata": {},
   "outputs": [],
   "source": [
    "\n",
    "class File(Base):\n",
    "    __tablename__ = 'files'\n",
    "    id = Column(Integer, primary_key=True)\n",
    "    name = Column(String)\n",
    "    content = Column(LargeBinary)\n",
    "\n",
    "Base.metadata.create_all(engine)\n",
    "\n",
    "def upload_file(file_name):\n",
    "    with open(file_name, 'rb') as f:\n",
    "        content = f.read()\n",
    "    new_file = File(name=file_name, content=content)\n",
    "    session.add(new_file)\n",
    "    session.commit()\n",
    "\n",
    "def download_file(file_name, output_name=None):\n",
    "    if output_name is None:\n",
    "        output_name = file_name\n",
    "    file = session.query(File).filter_by(name=file_name).first()\n",
    "    with open(output_name, 'wb') as f:\n",
    "        f.write(file.content)\n"
   ]
  },
  {
   "cell_type": "code",
   "execution_count": 4,
   "metadata": {},
   "outputs": [
    {
     "name": "stdout",
     "output_type": "stream",
     "text": [
      "{'liquidity_pool_value': 263330.98, 'market_cap': 136599.87, 'total_holder': 51}\n"
     ]
    }
   ],
   "source": [
    "import re\n",
    "from bs4 import BeautifulSoup\n",
    "import requests, json\n",
    "\n",
    "\n",
    "def crawl_x_tele_from_gmgn(gmgn_url) -> dict:\n",
    "    \"\"\"The function to crawl tele_url, website, x_url and token info\n",
    "    from GMGN site\n",
    "    Args:\n",
    "        gmgn_url (_type_): gmgn url\n",
    "    Returns:\n",
    "        dict: token information including social links\n",
    "    \"\"\"\n",
    "    try:\n",
    "        # Variables\n",
    "        result = {}\n",
    "\n",
    "        # Fetch the page content\n",
    "        response = requests.get(gmgn_url)\n",
    "        response.raise_for_status()  # Ensure we notice bad responses\n",
    "\n",
    "        # Parse the HTML content\n",
    "        soup = BeautifulSoup(response.text, 'html.parser')\n",
    "\n",
    "        # Find the script tag that contains JSON data\n",
    "        script_tag = soup.find('script', type='application/json')\n",
    "\n",
    "        # Check if script tag is found\n",
    "        if script_tag:\n",
    "            # Extract the JSON data from the script tag\n",
    "            json_data = script_tag.string\n",
    "            # Parse JSON data\n",
    "            data = json.loads(json_data)\n",
    "            \n",
    "            # Extract token info\n",
    "            token_info = data.get('props', {}).get('pageProps', {}).get('tokenInfo', {})\n",
    "            if token_info:\n",
    "                if 'liquidity' in token_info and (token_info['liquidity'] != 0 and token_info['liquidity'] is not None):\n",
    "                    result['liquidity_pool_value'] = round(token_info['liquidity'], 2)\n",
    "                if 'market_cap' in token_info and (token_info['market_cap'] != 0 and token_info['market_cap'] is not None):\n",
    "                    result['market_cap'] = round(token_info['market_cap'], 2)\n",
    "                if token_info['holder_count']:\n",
    "                    result['total_holder'] = token_info['holder_count']\n",
    "\n",
    "            # Extract the social_links object\n",
    "            social_links = data.get('props', {}).get('pageProps', {}).get('tokenInfo', {}).get('social_links', {})\n",
    "            if social_links:\n",
    "                result['twitter_url'] = f\"https://x.com/{social_links['twitter_username']}\" if 'twitter_username' in social_links.keys() else None\n",
    "                result['website_url'] = social_links[\"website\"] if 'website' in social_links.keys() else None\n",
    "                result['telegram_url']= social_links[\"telegram\"] if 'telegram' in social_links.keys() else None\n",
    "\n",
    "            return result\n",
    "\n",
    "        else:\n",
    "            print(\"Crawl x and tele func  - Script tag containing JSON data not found.\")\n",
    "            return None\n",
    "\n",
    "    except (Exception) as e:\n",
    "        print(f\"Crawl x and tele func returned an error message: {e}\")\n",
    "        return None\n",
    "    \n",
    "\n",
    "token_ca = '3MUBH58LGWv8vGpTX1G529dYQm9jWcQeGi5Xf2novCJx'\n",
    "gmgn_url = f'https://gmgn.ai/sol/token/{token_ca}'\n",
    "\n",
    "\n",
    "r = crawl_x_tele_from_gmgn(gmgn_url)\n",
    "\n",
    "print(r)"
   ]
  },
  {
   "cell_type": "code",
   "execution_count": null,
   "metadata": {},
   "outputs": [],
   "source": []
  }
 ],
 "metadata": {
  "kernelspec": {
   "display_name": "Python 3",
   "language": "python",
   "name": "python3"
  },
  "language_info": {
   "codemirror_mode": {
    "name": "ipython",
    "version": 3
   },
   "file_extension": ".py",
   "mimetype": "text/x-python",
   "name": "python",
   "nbconvert_exporter": "python",
   "pygments_lexer": "ipython3",
   "version": "3.10.9"
  }
 },
 "nbformat": 4,
 "nbformat_minor": 2
}
