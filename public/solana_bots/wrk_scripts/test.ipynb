{
 "cells": [
  {
   "cell_type": "code",
   "execution_count": 1,
   "metadata": {},
   "outputs": [],
   "source": [
    "import re\n",
    "import requests\n",
    "from bs4 import BeautifulSoup\n",
    "import psycopg2\n",
    "from psycopg2 import sql\n",
    "import time\n",
    "\n",
    "\n"
   ]
  },
  {
   "cell_type": "code",
   "execution_count": null,
   "metadata": {},
   "outputs": [],
   "source": [
    "DATABASE_URL = 'postgres://u7r3q8fi3oil8d:p7c4ab7923edcd720fad4e7373c00c69924b36cd5449778bcf0e5a70268616cdd@cbec45869p4jbu.cluster-czrs8kj4isg7.us-east-1.rds.amazonaws.com:5432/d2jp5l4pcu7iuv'\n",
    "conn    = psycopg2.connect(DATABASE_URL, sslmode=\"require\")\n",
    "cursor  = conn.cursor()"
   ]
  },
  {
   "cell_type": "code",
   "execution_count": 10,
   "metadata": {},
   "outputs": [],
   "source": [
    "cursor.close()\n",
    "conn.close()"
   ]
  },
  {
   "cell_type": "code",
   "execution_count": 119,
   "metadata": {},
   "outputs": [
    {
     "name": "stdout",
     "output_type": "stream",
     "text": [
      "['index_n_gmgn_present']\n"
     ]
    }
   ],
   "source": [
    "TELE_GROUPS = {\n",
    "    # \"index_n_bonkbot_present\": -1002022757177, # -100: search exactly GetHistoryRequest, while positive number is to get cached of a user\n",
    "    \"index_n_gmgn_present\": -1002202241417\n",
    "}\n",
    "\n",
    "print(f\"{list(TELE_GROUPS.keys())}\")\n",
    "\n",
    "def clean_special_characters(value):\n",
    "    # Remove or escape special characters\n",
    "    if isinstance(value, str):\n",
    "        # Example: Removing single quotes and other special characters\n",
    "        value = re.sub(r\"[\\'\\\"\\\\]\", \"\", value)\n",
    "    return str(value)"
   ]
  },
  {
   "cell_type": "code",
   "execution_count": 120,
   "metadata": {},
   "outputs": [
    {
     "name": "stdout",
     "output_type": "stream",
     "text": [
      "1 records have been added to `token_pool_info_summary`.\n",
      "*** 5. Update `token_pool_summary` table | Elapsed time: 0.87sec\n"
     ]
    }
   ],
   "source": [
    "# token_info = [{'network':'Solana','ca':'ca123pump', 'ticker':'ticket01'},{'network':'Solana','ca':'ca456pump','ticker':'ticker02'}]\n",
    "\n",
    "token_info = [{'network': 'test', 'ca': 'cpnkxxmwx38e3pb81adwewofsvxygqlbtwwev7hneq2t', 'ticker': 'trump', 'token_name': 'trump2024', 'description': 'trump2024', 'market_cap': 93919.63, 'liquidity_pool_value': 179235.06, 'total_holder': 48, 'gmgn_url': 'https://gmgn.ai/sol/token/CPnkXXMwX38E3pB81aDwewoFsvXyGqLbTwwev7HneQ2t', 'index_n_smartwallet_bought': 0, 'index_n_gmgn_present': 0, 'index_n_bonkbot_present': 1, 'index_n_follower_twitter': None, 'index_n_subscriber_telegram': 0, 'index_n_twitter_search_result': None, 'twitter_url': None, 'telegram_url': None, 'website_url': None}]\n",
    "\n",
    "# ---\n",
    "def update_token_pool_summary_tbl(conn, cursor, token_info):\n",
    "    \"\"\"The function is to update the token_pool_summary table\n",
    "    Args:\n",
    "        token_info (list): _description_\n",
    "    \"\"\"\n",
    "    try:\n",
    "        # Prepare the insert statement dynamically\n",
    "        start_time = time.time()\n",
    "        queries = \"\"\n",
    "        cols = [f\"p_{item}\" for item in list(token_info[0].keys())]\n",
    "\n",
    "        # Apply SCD Type 2 for every single token, and insert into token_pool_summary table\n",
    "        for row in token_info:\n",
    "            # Clean data input\n",
    "            values = [clean_special_characters(val) for val in row.values()]\n",
    "            values = list(map(\":=\".join, zip(cols, values)))\n",
    "            values = (str(values).replace(\":=\", \":='\").replace(\", '\", \", \").replace(\"['\", '').replace(']', '')).replace('\"', '')\n",
    "\n",
    "            # Prepare insert statement\n",
    "            scd2_statement = (\"\"\"\n",
    "                SELECT update_scd_to_token_pool_info_summary({parameters});\n",
    "            \"\"\").format(\n",
    "                parameters = values\n",
    "            )\n",
    "            queries += scd2_statement + \"\\n\"\n",
    "\n",
    "        # Execute\n",
    "        try:\n",
    "            cursor.execute(queries)\n",
    "        except (psycopg2.Error) as e:\n",
    "            print(f\"Function `update_token_pool_summary_tbl` | Error inserting row {row}: {e}\")\n",
    "            conn.rollwback() # Rollback the current transaction to skip the faulty row\n",
    "        else:\n",
    "            # Commit transaction\n",
    "            conn.commit()\n",
    "\n",
    "        print(f\"{len(token_info)} records have been added to `token_pool_info_summary`.\")\n",
    "\n",
    "        # Elapse time & return\n",
    "        elapsed_time = round(time.time() - start_time, 2)\n",
    "        print(f\"*** 5. Update `token_pool_summary` table | Elapsed time: {elapsed_time}sec\")\n",
    "\n",
    "    except (Exception) as error:\n",
    "        print(f\"Update `token_pool_summary_tbl` error occured with message {error}\") \n",
    "\n",
    "\n",
    "\n",
    "update_token_pool_summary_tbl(conn, cursor, token_info)"
   ]
  },
  {
   "cell_type": "code",
   "execution_count": 114,
   "metadata": {},
   "outputs": [
    {
     "name": "stdout",
     "output_type": "stream",
     "text": [
      "1: ['Solana', 'cpnkxxmwx38e3pb81adwewofsvxygqlbtwwev7hneq2t', 'trump', 'trump2024', 'trump2024', '93919.63', '179235.06', '48', 'https://gmgn.ai/sol/token/CPnkXXMwX38E3pB81aDwewoFsvXyGqLbTwwev7HneQ2t', '0', '0', '1', 'None', '0', 'None', 'None', 'None', 'None']\n",
      "2: ['p_network:=Solana', 'p_ca:=cpnkxxmwx38e3pb81adwewofsvxygqlbtwwev7hneq2t', 'p_ticker:=trump', 'p_token_name:=trump2024', 'p_description:=trump2024', 'p_market_cap:=93919.63', 'p_liquidity_pool_value:=179235.06', 'p_total_holder:=48', 'p_gmgn_url:=https://gmgn.ai/sol/token/CPnkXXMwX38E3pB81aDwewoFsvXyGqLbTwwev7HneQ2t', 'p_index_n_smartwallet_bought:=0', 'p_index_n_gmgn_present:=0', 'p_index_n_bonkbot_present:=1', 'p_index_n_follower_twitter:=None', 'p_index_n_subscriber_telegram:=0', 'p_index_n_twitter_search_result:=None', 'p_twitter_url:=None', 'p_telegram_url:=None', 'p_website_url:=None']\n",
      "3: p_network:='Solana', p_ca:='cpnkxxmwx38e3pb81adwewofsvxygqlbtwwev7hneq2t', p_ticker:='trump', p_token_name:='trump2024', p_description:='trump2024', p_market_cap:='93919.63', p_liquidity_pool_value:='179235.06', p_total_holder:='48', p_gmgn_url:='https://gmgn.ai/sol/token/CPnkXXMwX38E3pB81aDwewoFsvXyGqLbTwwev7HneQ2t', p_index_n_smartwallet_bought:='0', p_index_n_gmgn_present:='0', p_index_n_bonkbot_present:='1', p_index_n_follower_twitter:='None', p_index_n_subscriber_telegram:='0', p_index_n_twitter_search_result:='None', p_twitter_url:='None', p_telegram_url:='None', p_website_url:='None'\n"
     ]
    }
   ],
   "source": [
    "token_info = [{'network': 'Solana', 'ca': 'cpnkxxmwx38e3pb81adwewofsvxygqlbtwwev7hneq2t', 'ticker': 'trump', 'token_name': 'trump2024', 'description': 'trump2024', 'market_cap': 93919.63, 'liquidity_pool_value': 179235.06, 'total_holder': 48, 'gmgn_url': 'https://gmgn.ai/sol/token/CPnkXXMwX38E3pB81aDwewoFsvXyGqLbTwwev7HneQ2t', 'index_n_smartwallet_bought': 0, 'index_n_gmgn_present': 0, 'index_n_bonkbot_present': 1, 'index_n_follower_twitter': None, 'index_n_subscriber_telegram': 0, 'index_n_twitter_search_result': None, 'twitter_url': None, 'telegram_url': None, 'website_url': None}]\n",
    "\n",
    "# Need to convert it to : [(p_network:='Solana', p_ca:='ca123pump'), (p_network:='Solana', p_ca:='ca456pump')]\n",
    "def clean_special_characters(value):\n",
    "    # Remove or escape special characters\n",
    "    if isinstance(value, str):\n",
    "        # Example: Removing single quotes and other special characters\n",
    "        value = re.sub(r\"[\\'\\\"\\\\]\", \"\", value)\n",
    "    return str(value)\n",
    "\n",
    "cols = [f\"p_{item}\" for item in list(token_info[0].keys())]\n",
    "values = []\n",
    "\n",
    "for row in token_info:\n",
    "    values = [clean_special_characters(val) for val in row.values()]\n",
    "    print(f\"1: {values}\")\n",
    "    values = list(map(\":=\".join, zip(cols, values)))\n",
    "    print(f\"2: {values}\")\n",
    "    values = (str(values).replace(\":=\", \":='\").replace(\", '\", \", \").replace(\"['\", '').replace(']', '')).replace('\"', '')\n",
    "    print(f\"3: {values}\")\n",
    "    "
   ]
  },
  {
   "cell_type": "code",
   "execution_count": 121,
   "metadata": {},
   "outputs": [
    {
     "ename": "NoSuchModuleError",
     "evalue": "Can't load plugin: sqlalchemy.dialects:postgres",
     "output_type": "error",
     "traceback": [
      "\u001b[0;31m---------------------------------------------------------------------------\u001b[0m",
      "\u001b[0;31mNoSuchModuleError\u001b[0m                         Traceback (most recent call last)",
      "Cell \u001b[0;32mIn[121], line 7\u001b[0m\n\u001b[1;32m      4\u001b[0m \u001b[38;5;28;01mimport\u001b[39;00m \u001b[38;5;21;01mos\u001b[39;00m\n\u001b[1;32m      6\u001b[0m DATABASE_URL \u001b[38;5;241m=\u001b[39m \u001b[38;5;124m'\u001b[39m\u001b[38;5;124mpostgres://u7r3q8fi3oil8d:p7c4ab7923edcd720fad4e7373c00c69924b36cd5449778bcf0e5a70268616cdd@cbec45869p4jbu.cluster-czrs8kj4isg7.us-east-1.rds.amazonaws.com:5432/d2jp5l4pcu7iuv\u001b[39m\u001b[38;5;124m'\u001b[39m\n\u001b[0;32m----> 7\u001b[0m engine \u001b[38;5;241m=\u001b[39m \u001b[43mcreate_engine\u001b[49m\u001b[43m(\u001b[49m\u001b[43mDATABASE_URL\u001b[49m\u001b[43m)\u001b[49m\n\u001b[1;32m      8\u001b[0m Session \u001b[38;5;241m=\u001b[39m sessionmaker(bind\u001b[38;5;241m=\u001b[39mengine)\n\u001b[1;32m      9\u001b[0m session \u001b[38;5;241m=\u001b[39m Session()\n",
      "File \u001b[0;32m<string>:2\u001b[0m, in \u001b[0;36mcreate_engine\u001b[0;34m(url, **kwargs)\u001b[0m\n",
      "File \u001b[0;32m/opt/homebrew/Caskroom/miniconda/base/lib/python3.10/site-packages/sqlalchemy/util/deprecations.py:281\u001b[0m, in \u001b[0;36mdeprecated_params.<locals>.decorate.<locals>.warned\u001b[0;34m(fn, *args, **kwargs)\u001b[0m\n\u001b[1;32m    274\u001b[0m     \u001b[38;5;28;01mif\u001b[39;00m m \u001b[38;5;129;01min\u001b[39;00m kwargs:\n\u001b[1;32m    275\u001b[0m         _warn_with_version(\n\u001b[1;32m    276\u001b[0m             messages[m],\n\u001b[1;32m    277\u001b[0m             versions[m],\n\u001b[1;32m    278\u001b[0m             version_warnings[m],\n\u001b[1;32m    279\u001b[0m             stacklevel\u001b[38;5;241m=\u001b[39m\u001b[38;5;241m3\u001b[39m,\n\u001b[1;32m    280\u001b[0m         )\n\u001b[0;32m--> 281\u001b[0m \u001b[38;5;28;01mreturn\u001b[39;00m \u001b[43mfn\u001b[49m\u001b[43m(\u001b[49m\u001b[38;5;241;43m*\u001b[39;49m\u001b[43margs\u001b[49m\u001b[43m,\u001b[49m\u001b[43m \u001b[49m\u001b[38;5;241;43m*\u001b[39;49m\u001b[38;5;241;43m*\u001b[39;49m\u001b[43mkwargs\u001b[49m\u001b[43m)\u001b[49m\n",
      "File \u001b[0;32m/opt/homebrew/Caskroom/miniconda/base/lib/python3.10/site-packages/sqlalchemy/engine/create.py:550\u001b[0m, in \u001b[0;36mcreate_engine\u001b[0;34m(url, **kwargs)\u001b[0m\n\u001b[1;32m    546\u001b[0m u \u001b[38;5;241m=\u001b[39m _url\u001b[38;5;241m.\u001b[39mmake_url(url)\n\u001b[1;32m    548\u001b[0m u, plugins, kwargs \u001b[38;5;241m=\u001b[39m u\u001b[38;5;241m.\u001b[39m_instantiate_plugins(kwargs)\n\u001b[0;32m--> 550\u001b[0m entrypoint \u001b[38;5;241m=\u001b[39m \u001b[43mu\u001b[49m\u001b[38;5;241;43m.\u001b[39;49m\u001b[43m_get_entrypoint\u001b[49m\u001b[43m(\u001b[49m\u001b[43m)\u001b[49m\n\u001b[1;32m    551\u001b[0m _is_async \u001b[38;5;241m=\u001b[39m kwargs\u001b[38;5;241m.\u001b[39mpop(\u001b[38;5;124m\"\u001b[39m\u001b[38;5;124m_is_async\u001b[39m\u001b[38;5;124m\"\u001b[39m, \u001b[38;5;28;01mFalse\u001b[39;00m)\n\u001b[1;32m    552\u001b[0m \u001b[38;5;28;01mif\u001b[39;00m _is_async:\n",
      "File \u001b[0;32m/opt/homebrew/Caskroom/miniconda/base/lib/python3.10/site-packages/sqlalchemy/engine/url.py:758\u001b[0m, in \u001b[0;36mURL._get_entrypoint\u001b[0;34m(self)\u001b[0m\n\u001b[1;32m    756\u001b[0m \u001b[38;5;28;01melse\u001b[39;00m:\n\u001b[1;32m    757\u001b[0m     name \u001b[38;5;241m=\u001b[39m \u001b[38;5;28mself\u001b[39m\u001b[38;5;241m.\u001b[39mdrivername\u001b[38;5;241m.\u001b[39mreplace(\u001b[38;5;124m\"\u001b[39m\u001b[38;5;124m+\u001b[39m\u001b[38;5;124m\"\u001b[39m, \u001b[38;5;124m\"\u001b[39m\u001b[38;5;124m.\u001b[39m\u001b[38;5;124m\"\u001b[39m)\n\u001b[0;32m--> 758\u001b[0m \u001b[38;5;28mcls\u001b[39m \u001b[38;5;241m=\u001b[39m \u001b[43mregistry\u001b[49m\u001b[38;5;241;43m.\u001b[39;49m\u001b[43mload\u001b[49m\u001b[43m(\u001b[49m\u001b[43mname\u001b[49m\u001b[43m)\u001b[49m\n\u001b[1;32m    759\u001b[0m \u001b[38;5;66;03m# check for legacy dialects that\u001b[39;00m\n\u001b[1;32m    760\u001b[0m \u001b[38;5;66;03m# would return a module with 'dialect' as the\u001b[39;00m\n\u001b[1;32m    761\u001b[0m \u001b[38;5;66;03m# actual class\u001b[39;00m\n\u001b[1;32m    762\u001b[0m \u001b[38;5;28;01mif\u001b[39;00m (\n\u001b[1;32m    763\u001b[0m     \u001b[38;5;28mhasattr\u001b[39m(\u001b[38;5;28mcls\u001b[39m, \u001b[38;5;124m\"\u001b[39m\u001b[38;5;124mdialect\u001b[39m\u001b[38;5;124m\"\u001b[39m)\n\u001b[1;32m    764\u001b[0m     \u001b[38;5;129;01mand\u001b[39;00m \u001b[38;5;28misinstance\u001b[39m(\u001b[38;5;28mcls\u001b[39m\u001b[38;5;241m.\u001b[39mdialect, \u001b[38;5;28mtype\u001b[39m)\n\u001b[1;32m    765\u001b[0m     \u001b[38;5;129;01mand\u001b[39;00m \u001b[38;5;28missubclass\u001b[39m(\u001b[38;5;28mcls\u001b[39m\u001b[38;5;241m.\u001b[39mdialect, Dialect)\n\u001b[1;32m    766\u001b[0m ):\n",
      "File \u001b[0;32m/opt/homebrew/Caskroom/miniconda/base/lib/python3.10/site-packages/sqlalchemy/util/langhelpers.py:375\u001b[0m, in \u001b[0;36mPluginLoader.load\u001b[0;34m(self, name)\u001b[0m\n\u001b[1;32m    372\u001b[0m         \u001b[38;5;28mself\u001b[39m\u001b[38;5;241m.\u001b[39mimpls[name] \u001b[38;5;241m=\u001b[39m impl\u001b[38;5;241m.\u001b[39mload\n\u001b[1;32m    373\u001b[0m         \u001b[38;5;28;01mreturn\u001b[39;00m impl\u001b[38;5;241m.\u001b[39mload()\n\u001b[0;32m--> 375\u001b[0m \u001b[38;5;28;01mraise\u001b[39;00m exc\u001b[38;5;241m.\u001b[39mNoSuchModuleError(\n\u001b[1;32m    376\u001b[0m     \u001b[38;5;124m\"\u001b[39m\u001b[38;5;124mCan\u001b[39m\u001b[38;5;124m'\u001b[39m\u001b[38;5;124mt load plugin: \u001b[39m\u001b[38;5;132;01m%s\u001b[39;00m\u001b[38;5;124m:\u001b[39m\u001b[38;5;132;01m%s\u001b[39;00m\u001b[38;5;124m\"\u001b[39m \u001b[38;5;241m%\u001b[39m (\u001b[38;5;28mself\u001b[39m\u001b[38;5;241m.\u001b[39mgroup, name)\n\u001b[1;32m    377\u001b[0m )\n",
      "\u001b[0;31mNoSuchModuleError\u001b[0m: Can't load plugin: sqlalchemy.dialects:postgres"
     ]
    }
   ],
   "source": [
    "from sqlalchemy import create_engine, Column, Integer, String, LargeBinary\n",
    "from sqlalchemy.ext.declarative import declarative_base\n",
    "from sqlalchemy.orm import sessionmaker\n",
    "import os\n",
    "\n",
    "DATABASE_URL = 'postgres://u7r3q8fi3oil8d:p7c4ab7923edcd720fad4e7373c00c69924b36cd5449778bcf0e5a70268616cdd@cbec45869p4jbu.cluster-czrs8kj4isg7.us-east-1.rds.amazonaws.com:5432/d2jp5l4pcu7iuv'\n",
    "engine = create_engine(DATABASE_URL)\n",
    "Session = sessionmaker(bind=engine)\n",
    "session = Session()\n",
    "Base = declarative_base()\n"
   ]
  },
  {
   "cell_type": "code",
   "execution_count": null,
   "metadata": {},
   "outputs": [],
   "source": [
    "\n",
    "class File(Base):\n",
    "    __tablename__ = 'files'\n",
    "    id = Column(Integer, primary_key=True)\n",
    "    name = Column(String)\n",
    "    content = Column(LargeBinary)\n",
    "\n",
    "Base.metadata.create_all(engine)\n",
    "\n",
    "def upload_file(file_name):\n",
    "    with open(file_name, 'rb') as f:\n",
    "        content = f.read()\n",
    "    new_file = File(name=file_name, content=content)\n",
    "    session.add(new_file)\n",
    "    session.commit()\n",
    "\n",
    "def download_file(file_name, output_name=None):\n",
    "    if output_name is None:\n",
    "        output_name = file_name\n",
    "    file = session.query(File).filter_by(name=file_name).first()\n",
    "    with open(output_name, 'wb') as f:\n",
    "        f.write(file.content)\n"
   ]
  },
  {
   "cell_type": "code",
   "execution_count": 2,
   "metadata": {},
   "outputs": [],
   "source": [
    "import re\n",
    "import requests\n",
    "from bs4 import BeautifulSoup\n",
    "import psycopg2\n",
    "from psycopg2 import sql\n",
    "import time\n",
    "import sqlite3\n"
   ]
  },
  {
   "cell_type": "code",
   "execution_count": null,
   "metadata": {},
   "outputs": [],
   "source": [
    "conn = sqlite3.connect('./tele_session_file_login_private.session')\n"
   ]
  },
  {
   "cell_type": "code",
   "execution_count": 2,
   "metadata": {},
   "outputs": [],
   "source": [
    "from telethon import TelegramClient\n",
    "from create_tele_session_file import TELE_SESSION_FILE_LOGIN, TELE_SESSION_FILE_PATH, V_API_ID, V_API_HASH\n",
    "from create_tele_session_file import download_binary_file\n",
    "\n",
    "\n",
    "client = TelegramClient(TELE_SESSION_FILE_LOGIN, V_API_ID, V_API_HASH)\n",
    "\n",
    "async def check_tele_conn_auth():\n",
    "    print(\"Run check_tele_conn_auth...\")\n",
    "    await client.connect()\n",
    "    \n",
    "    if client.is_connected():\n",
    "        print(\"TelegramClient connected!\")\n",
    "    else:\n",
    "        print(\"TelegramClient not connected!\")\n",
    "    \n",
    "    if client.is_user_authorized():\n",
    "        print(\"TelegramClient is authorized!\")\n",
    "    else:\n",
    "        print(\"TelegramClient not authorized!\")\n",
    "\n",
    "    await client.disconnect()"
   ]
  },
  {
   "cell_type": "code",
   "execution_count": 5,
   "metadata": {},
   "outputs": [
    {
     "data": {
      "text/plain": [
       "<coroutine object check_tele_conn_auth at 0x7fa1818b5460>"
      ]
     },
     "execution_count": 5,
     "metadata": {},
     "output_type": "execute_result"
    }
   ],
   "source": [
    "client.loop.run_until_complete(check_tele_conn_auth())\n"
   ]
  },
  {
   "cell_type": "code",
   "execution_count": 4,
   "metadata": {},
   "outputs": [
    {
     "name": "stdout",
     "output_type": "stream",
     "text": [
      "1804\n"
     ]
    }
   ],
   "source": [
    "# Fetch the content of the URL\n",
    "url = 'https://t.me/baneCTO'\n",
    "response = requests.get(url)\n",
    "if response.status_code != 200:\n",
    "    print(f\"Crawl_keyword function | Failed to fetch the URL: {url}\")\n",
    "    # return None\n",
    "\n",
    "# Parse the HTML content\n",
    "soup = BeautifulSoup(response.content, 'html.parser')\n",
    "body_text = soup.get_text().lower()\n",
    "# Search for number of subscribers\n",
    "match = re.search(r'(\\d[\\d\\s]*)\\s+[subscribers,members]', body_text)\n",
    "\n",
    "if match:\n",
    "    subscribers = int(match.group(1).replace(\" \",\"\"))\n",
    "    if subscribers:\n",
    "        print(subscribers)\n",
    "    \n",
    "    "
   ]
  },
  {
   "cell_type": "code",
   "execution_count": 1,
   "metadata": {},
   "outputs": [],
   "source": [
    "import requests\n",
    "\n",
    "ALCHEMY_API_TOKEN  = \"8lkJ9fP65TFrEXHYY_M6eoc_cxjGZ1IX\"\n"
   ]
  },
  {
   "cell_type": "code",
   "execution_count": 8,
   "metadata": {},
   "outputs": [
    {
     "name": "stdout",
     "output_type": "stream",
     "text": [
      "[]\n",
      "Number of unique wallet holders: 0\n"
     ]
    }
   ],
   "source": [
    "import requests\n",
    "\n",
    "def get_solana_token_holders_quicknode(quicknode_url, token_mint_address):\n",
    "    headers = {\"Content-Type\": \"application/json\"}\n",
    "\n",
    "    payload = {\n",
    "        \"jsonrpc\": \"2.0\",\n",
    "        \"id\": 1,\n",
    "        \"method\": \"getProgramAccounts\",\n",
    "        \"params\": [\n",
    "            \"TokenkegQfeZyiNwAJbNbGKPFXCWuBvf9Ss623VQ5DA\",  # This is the program ID for the SPL Token Program\n",
    "            {\n",
    "                \"encoding\": \"jsonParsed\",\n",
    "                \"filters\": [\n",
    "                    {\"dataSize\": 165},  # Data size for token accounts\n",
    "                    {\n",
    "                        \"memcmp\": {\n",
    "                            \"offset\": 0,  # Starting point of the filter\n",
    "                            \"bytes\": token_mint_address  # The token mint address to filter by\n",
    "                        }\n",
    "                    }\n",
    "                ]\n",
    "            }\n",
    "        ]\n",
    "    }\n",
    "\n",
    "    response = requests.post(quicknode_url, json=payload, headers=headers)\n",
    "    if response.status_code == 200:\n",
    "        result = response.json()\n",
    "        accounts = result.get(\"result\", [])\n",
    "        print(f\"accounts: {accounts}\")\n",
    "        unique_holders = {account['account']['data']['parsed']['info']['owner'] for account in accounts}\n",
    "        return len(unique_holders)\n",
    "    else:\n",
    "        print(\"Error:\", response.status_code, response.text)\n",
    "        return None\n",
    "\n",
    "# Example usage\n",
    "quicknode_url = \"https://greatest-serene-frog.solana-mainnet.quiknode.pro/d9956a657fc3ca286b0ee009465a5b704753fb95/\"  # Replace with your QuickNode endpoint URL\n",
    "token_mint_address = \"0x3885fbe4CD8aeD7b7e9625923927Fa1CE30662A3\"  # Replace with your token mint address\n",
    "holders_count = get_solana_token_holders_quicknode(quicknode_url, token_mint_address)\n",
    "if holders_count is not None:\n",
    "    print(f\"Number of unique wallet holders: {holders_count}\")\n"
   ]
  },
  {
   "cell_type": "code",
   "execution_count": 12,
   "metadata": {},
   "outputs": [
    {
     "name": "stdout",
     "output_type": "stream",
     "text": [
      "Token 0 Address: 0xC02aaA39b223FE8D0A0e5C4F27eAD9083C756Cc2\n",
      "Token 1 Address (Mint Address): 0xEE2a03Aa6Dacf51C18679C516ad5283d8E7C2637\n"
     ]
    }
   ],
   "source": [
    "from web3 import Web3\n",
    "\n",
    "def get_token_addresses_from_pair(web3, pair_address):\n",
    "    # Uniswap V2 Pair ABI\n",
    "    pair_abi = [\n",
    "        {\n",
    "            \"constant\": True,\n",
    "            \"inputs\": [],\n",
    "            \"name\": \"token0\",\n",
    "            \"outputs\": [{\"internalType\": \"address\", \"name\": \"\", \"type\": \"address\"}],\n",
    "            \"payable\": False,\n",
    "            \"stateMutability\": \"view\",\n",
    "            \"type\": \"function\"\n",
    "        },\n",
    "        {\n",
    "            \"constant\": True,\n",
    "            \"inputs\": [],\n",
    "            \"name\": \"token1\",\n",
    "            \"outputs\": [{\"internalType\": \"address\", \"name\": \"\", \"type\": \"address\"}],\n",
    "            \"payable\": False,\n",
    "            \"stateMutability\": \"view\",\n",
    "            \"type\": \"function\"\n",
    "        }\n",
    "    ]\n",
    "\n",
    "    pair_contract = web3.eth.contract(address=pair_address, abi=pair_abi)\n",
    "\n",
    "    # Get token addresses\n",
    "    token0 = pair_contract.functions.token0().call()\n",
    "    token1 = pair_contract.functions.token1().call()\n",
    "\n",
    "    return token0, token1\n",
    "\n",
    "# Example usage\n",
    "alchemy_url = \"https://eth-mainnet.g.alchemy.com/v2/8lkJ9fP65TFrEXHYY_M6eoc_cxjGZ1IX\"  # Replace with your Alchemy API key\n",
    "web3 = Web3(Web3.HTTPProvider(alchemy_url))\n",
    "\n",
    "pair_address = \"0x3885fbe4CD8aeD7b7e9625923927Fa1CE30662A3\"  # Replace with the pair address you have\n",
    "token0, token1 = get_token_addresses_from_pair(web3, pair_address)\n",
    "\n",
    "print(f\"Token 0 Address: {token0}\")\n",
    "print(f\"Token 1 Address (Mint Address): {token1}\")\n"
   ]
  },
  {
   "cell_type": "code",
   "execution_count": 12,
   "metadata": {},
   "outputs": [
    {
     "name": "stdout",
     "output_type": "stream",
     "text": [
      "Currency: SOL, Amt: -1.02, USD: -147.59\n",
      "Currency: KAMONISM , Amt: 4259137.63, USD: 144.84\n",
      "{'ticker': 'KAMONISM ', 'ticker_amt': 4259137.63, 'ticker_usd_val': 144.84}\n"
     ]
    }
   ],
   "source": [
    "text = '$Wallet_Tracking_SOL$🟢 BUY KAMONISM  on PUMP FUN\\n5zkcswATYbHasqiYGC6b2921URRtDF9cuLsYDDmMXfbg (Exp_Day_Trader_05)\\n\\n🔹Exp_Day_Trader_05 swapped 1 SOL for 4,259,137.63 ($144.84) KAMONISM  @$0.0000340\\n✊Holds: 15,823,149.6 KAMONISM  (1.58%)\\n\\n🔹Exp_Day_Trader_05:\\nSOL: -1.02 ($-147.59)\\nKAMONISM : +4,259,137.63 ($144.84)\\n\\n🔗 KAMONISM  | MC: $34.01K | Seen: 10m: BE | DS | DT | PH | Bullx | Pump\\nCVFKvW6ygukVytgb3yikn2WrDHgPj5FMJ8sbbeqPEb2n'\n",
    "balance_change_pattern = r\"\\n([A-Za-z0-9 ]+): ([+-]?[0-9.,]+) \\(\\$([+-]?[0-9,.]+)\\)\"\n",
    "\n",
    "\n",
    "balance_changes = {}\n",
    "for match in re.finditer(balance_change_pattern, text):\n",
    "    currency = match.group(1)\n",
    "    amount = float(match.group(2).replace(',', ''))\n",
    "    usd_value = float(match.group(3).replace(',', ''))\n",
    "    print(f\"Currency: {currency}, Amt: {amount}, USD: {usd_value}\")\n",
    "    if(currency != 'SOL' and currency != 'USDT' and currency != 'USDC'):\n",
    "        balance_changes[\"ticker\"] = currency\n",
    "        balance_changes[\"ticker_amt\"] = amount\n",
    "        balance_changes[\"ticker_usd_val\"] = usd_value\n",
    "\n",
    "        print(balance_changes)\n",
    "\n",
    "\n"
   ]
  },
  {
   "cell_type": "code",
   "execution_count": 23,
   "metadata": {},
   "outputs": [],
   "source": [
    "import re\n",
    "\n",
    "def extract_keywords(text):\n",
    "    extracted_data = {}\n",
    "    # Regular expressions to extract values\n",
    "    patterns = {\n",
    "        \"fdv\": r\"FDV:\\s*🏛\\s*\\$([\\d,.]+[KM]?)\",\n",
    "        \"liquidity\": r\"Liquidity:\\s*💧\\s*\\$([\\d,.]+[KM]?)\",\n",
    "        \"age\": r\"Age:\\s*🌿\\s*([\\d\\w]+)\",\n",
    "        \"24h_txns_total\": r\"24H Txns:\\s*🔁\\s*Total:\\s*([\\d,.KM]+)\",\n",
    "        \"ca\": r\"📄 CA:\\s*([\\w\\d]+)\",\n",
    "        \"price_chg_24h\": r\"Price Chg:\\s*📈\\s*24H:\\s*🟢\\s*([\\d,.%]+)\",\n",
    "        \"24h_makers_buyers\":  r\"24H Makers:\\s*🥸\\s*Total:.*?\\n\\s*Buyers:\\s*([\\d,.KM]+)\",\n",
    "        \"24h_makers_sellers\": r\"24H Makers:\\s*🥸\\s*Total:.*?\\n\\s*Buyers:.*?\\n\\s*Sellers:\\s*([\\d,.KM]+)\",\n",
    "        \"now_trending_at\": r\"is now trending at\\s*([\\d️⃣]+)\"\n",
    "    }\n",
    "    # Extract values using regex\n",
    "    for key, pattern in patterns.items():\n",
    "        match = re.search(pattern, text)\n",
    "        if match:\n",
    "            extracted_data[key] = match.group(1)\n",
    "        else:\n",
    "            extracted_data[key] = None\n",
    "    # Convert \"Now trending at\" value to a numeric format\n",
    "    if \"Now trending at\" in extracted_data:\n",
    "        numeric_value = re.sub(r\"\\D\", \"\", extracted_data[\"Now trending at\"])  # Remove non-digit characters\n",
    "        extracted_data[\"Now trending at\"] = int(numeric_value) if numeric_value.isdigit() else None\n",
    "    # Respond\n",
    "    return extracted_data\n"
   ]
  },
  {
   "cell_type": "code",
   "execution_count": 24,
   "metadata": {},
   "outputs": [
    {
     "data": {
      "text/plain": [
       "{'fdv': None,\n",
       " 'liquidity': '40.9K',\n",
       " 'age': '3m',\n",
       " '24h_txns_total': '569',\n",
       " 'ca': 'ykPcmFuaN3JhRsbBxu83t3QN7w9EDFqJiutQ8mKpump',\n",
       " 'price_chg_24h': '59.93%',\n",
       " '24h_makers_buyers': '345',\n",
       " '24h_makers_sellers': '164',\n",
       " 'now_trending_at': None}"
      ]
     },
     "execution_count": 24,
     "metadata": {},
     "output_type": "execute_result"
    }
   ],
   "source": [
    "\n",
    "# Example usage\n",
    "text = \"\"\"$NewPool_SOL_DexScreener$✨ Token info updated for HEIL ELON (HEIL ELON) (https://dexscreener.com/solana/8o74Z9xB4qGSbQGg2Wp9pAwDc1Kod7ETw2YM8jCMzBHM)!\n",
    "\n",
    "\n",
    "      Price: 🏷️ $0.0001285\n",
    "        FDV: 🏛️ $128.5K\n",
    "  Liquidity: 💧 $40.9K (103.43 SOL)\n",
    "        Age: 🌿 3m\n",
    "\n",
    "     Volume: 💰\n",
    "        24H: $58.5K\n",
    "         6H: $58.5K\n",
    "         1H: $58.5K\n",
    "         5M: $58.5K\n",
    "\n",
    "  Price Chg: 📈\n",
    "        24H: 🟢 59.93%\n",
    "         6H: 🟢 59.93%\n",
    "         1H: 🟢 59.93%\n",
    "         5M: 🟢 59.93%\n",
    "\n",
    "   24H Txns: 🔁\n",
    "      Total: 569\n",
    "       Buys: 391\n",
    "      Sells: 178\n",
    "\n",
    " 24H Makers: 🥸\n",
    "      Total: 384\n",
    "     Buyers: 345\n",
    "    Sellers: 164\n",
    "\n",
    "\n",
    "ℹ️ Info:\n",
    "HEIL ELON\n",
    "🔗Twitter (𝕏) (https://x.com/kanyewest/status/1888336448673481193)  \n",
    "\n",
    "📄 CA: ykPcmFuaN3JhRsbBxu83t3QN7w9EDFqJiutQ8mKpump\"\"\"\n",
    "\n",
    "# Run extraction\n",
    "result = extract_keywords(text)\n",
    "result"
   ]
  },
  {
   "cell_type": "code",
   "execution_count": 32,
   "metadata": {},
   "outputs": [
    {
     "data": {
      "text/plain": [
       "'{\"errors\":[{\"parameters\":{\"query\":[\"7oBYdEhV4GkXC19ZfgAvXpJWp2Rn9pm1Bx2cVNxFpump -is:retweet min_replies:50 lang:en\"]},\"message\":\"There were errors processing your request: Reference to invalid field \\'min_replies\\' (at position 58), Reference to invalid operator \\'min_replies\\'. Operator is not available in current product or product packaging. Please refer to complete available operator list at http://t.co/operators. (at position 58)\"}],\"title\":\"Invalid Request\",\"detail\":\"One or more parameters to your request was invalid.\",\"type\":\"https://api.twitter.com/2/problems/invalid-request\"}'"
      ]
     },
     "execution_count": 32,
     "metadata": {},
     "output_type": "execute_result"
    }
   ],
   "source": [
    "import requests\n",
    "import datetime\n",
    "\n",
    "# 🔑 Replace with your Twitter API Bearer Token\n",
    "API_KEY = \"KNHEMSzwxu2oaf1csMbzYMyA2\"\n",
    "API_KEY_SECRET = \"zG5qT9DNRmkIkGxygxJgcxBxVjB6XM5zB6T8FDdD4Apm3VGp39\"\n",
    "BEARER_TOKEN = \"AAAAAAAAAAAAAAAAAAAAAC3XywEAAAAA8cV6esyLq9N6G0AdlpPLEFeZYzk%3DzU21JssItcovAGnE9524im1RvnUPiCW21NHvtOUqaQxx8SNIxh\"\n",
    "\n",
    "def search_tweets(keyword, min_replies=50, max_results=10):\n",
    "    \"\"\"Search top tweets containing `keyword` with at least `min_replies` in the last 24 hours.\"\"\"\n",
    "    \n",
    "    # Get yesterday's date (24 hours ago)\n",
    "    since_date = (datetime.datetime.utcnow() - datetime.timedelta(days=1)).strftime(\"%Y-%m-%dT%H:%M:%SZ\")\n",
    "    \n",
    "    # Twitter API endpoint\n",
    "    url = \"https://api.twitter.com/2/tweets/search/recent\"\n",
    "    headers = {\"Authorization\": f\"Bearer {BEARER_TOKEN}\", \"User-Agent\": \"v2RecentSearchPython\"}\n",
    "    \n",
    "    # Query: Search keyword, min 50 replies, last 24h, no retweets, English\n",
    "    query = f'{keyword} -is:retweet min_replies:{min_replies} lang:en'\n",
    "\n",
    "    params = {\n",
    "        \"query\": query,\n",
    "        \"tweet.fields\": \"created_at,public_metrics,author_id\",\n",
    "        \"max_results\": max_results,\n",
    "        \"sort_order\": \"relevancy\"\n",
    "    }\n",
    "    # Make API request\n",
    "    response = requests.get(url, headers=headers, params=params)\n",
    "    \n",
    "    if response.status_code == 200:\n",
    "        return response.json()\n",
    "    else:\n",
    "        return response.text\n",
    "\n",
    "# 🔍 Run search with the given keyword\n",
    "keyword = \"7oBYdEhV4GkXC19ZfgAvXpJWp2Rn9pm1Bx2cVNxFpump\"\n",
    "tweets = search_tweets(keyword)\n",
    "tweets"
   ]
  },
  {
   "cell_type": "code",
   "execution_count": 45,
   "metadata": {},
   "outputs": [],
   "source": [
    "# Sample text\n",
    "text = \"\"\"$NewPool_SOL_GmgnKolFomo$  88 KOL Buy CAR (https://gmgn.ai/sol/token/7oBYdEhV4GkXC19ZfgAvXpJWp2Rn9pm1Bx2cVNxFpump)!\n",
    "🟢🟢🟢🟢🟢🟢🟢🟢🟢🟢🟢🟢🟢🟢🟢🟢🟢🟢🟢🟢🟢🟢🟢🟢🟢🟢🟢🟢🟢🟢🟢🟢🟢🟢🟢🟢🟢🟢🟢🟢🟢🟢🟢🟢🟢🟢🟢🟢🟢🟢🟢🟢🟢🟢🟢🟢🟢🟢🟢🟢🟢🟢🟢🟢🟢🟢🟢🟢🟢🟢🟢🟢🟢🟢🟢🟢🟢🟢🟢🟢🟢🟢🟢🟢🟢🟢🟢🟢\n",
    "\n",
    "💵 KOL Inflow净流入:$638.4K(3153.6645 Sol) \n",
    "💳 KOL Buy/Sell:441/383\n",
    "\n",
    "$CAR(Central African Republic Meme)\n",
    "7oBYdEhV4GkXC19ZfgAvXpJWp2Rn9pm1Bx2cVNxFpump\n",
    "\n",
    "📈 5m | 1h | 6h: 5.53% | -17.23% | -38.11%\n",
    "🎲 5m TXs/Vol: 687/$334.3K\n",
    "💡 MCP: $123.8M\n",
    "💧 Liq: 5,555.24 SOL ($2.2M 🔥100%)\n",
    "👥 Holder: 34878\n",
    "🕒 Open: 17h ago\n",
    "\n",
    "✅ NoMint / ✅Blacklist / ✅Burnt\n",
    "✅TOP 10: 7.03%\n",
    "\n",
    "⏳ DEV: 🚨 Sell All (https://gmgn.ai/sol/address/121ftnYRm3WJmDHCWrazzRoyZAzZQ4xc5XD7dp3sfpfo)\n",
    "👨‍🍳 DEV Burnt烧币: 0(🔥Rate: %)\n",
    "\n",
    "Backup BOT: US (https://t.me/US_GMGNBOT?start=7oBYdEhV4GkXC19ZfgAvXpJWp2Rn9pm1Bx2cVNxFpump) | 01 (https://t.me/GMGN_sol_bot?start=7oBYdEhV4GkXC19ZfgAvXpJWp2Rn9pm1Bx2cVNxFpump) | 02 (https://t.me/GMGN_sol02_bot?start=7oBYdEhV4GkXC19ZfgAvXpJWp2Rn9pm1Bx2cVNxFpump) | 03 (https://t.me/GMGN_sol03_bot?start=7oBYdEhV4GkXC19ZfgAvXpJWp2Rn9pm1Bx2cVNxFpump) | 04 (https://t.me/GMGN_sol04_bot?start=7oBYdEhV4GkXC19ZfgAvXpJWp2Rn9pm1Bx2cVNxFpump)\n",
    "\n",
    "\n",
    "\n",
    "Hitas.eth aka Alpha Hunter || 🥷 (https://gmgn.ai/sol/address/3XbzGrkkhSC8FQ5CPgTXGXTMTZZaBPmCuWCvFhmfVTnN) 4s ago\n",
    "📈Cost $-- B/S:1/0\n",
    "⏳Holding $1194.5642(5.9011 Sol) \n",
    "\n",
    "Skid (https://gmgn.ai/sol/address/HPkQu4osTzt3reYjYX8CHufGCGgHesc7PqG6WdhcY4p9) 1m ago\n",
    "📈Cost $0.21971 B/S:9/0\n",
    "⏳Holding $11.4K(56.2724 Sol) \n",
    "\n",
    "Dex (https://gmgn.ai/sol/address/mW4PZB45isHmnjGkLpJvjKBzVS5NXzTJ8UDyug4gTsM) 25m ago\n",
    "📈Cost $0.4774 B/S:10/4\n",
    "⏳Holding $0(-- Sol) \n",
    "\n",
    "jidn (https://gmgn.ai/sol/address/3h65MmPZksoKKyEpEjnWU2Yk2iYT5oZDNitGy5cTaxoE) 30m ago\n",
    "📈Cost $0.12998 B/S:3/5\n",
    "⏳Holding $0(-- Sol) \n",
    "\n",
    "Vincent.L /*acc | Alpha ᴺ (https://gmgn.ai/sol/address/3HmdSXaifCptP2vCveVXkUGoXUuwavzEvK8Bgb35Uwbb) 56m ago\n",
    "📈Cost $0.24343 B/S:5/9\n",
    "⏳Holding $0(-- Sol) \n",
    "\n",
    "浩哥 (https://gmgn.ai/sol/address/8wzb3sEeWRin4Jtnh15qrU43atgLnhDv26T1u4XUrtTi) 1h ago\n",
    "📈Cost $0.30088 B/S:11/8\n",
    "⏳Holding $7974.9065(39.3959 Sol) \n",
    "\n",
    "IN (https://gmgn.ai/sol/address/GaGbu7YACTn6PVTpZyyDeT3Cdypd2U3Z7pkSMxuz2FQw) 1h ago\n",
    "📈Cost $0.3462 B/S:6/6\n",
    "⏳Holding $0(-- Sol) \n",
    "\n",
    "冷静冷静再冷静 (https://gmgn.ai/sol/address/Ay9wnuZCRTceZJuRpGZnuwYZuWdsviM4cMiCwFoSQiPH) 1h ago\n",
    "📈Cost $0.31252 B/S:43/34\n",
    "⏳Holding $0(-- Sol) \n",
    "\n",
    "雪球💤🎶 (https://gmgn.ai/sol/address/77V4DGjRHzzW91gnJpKnVZ3xZXYezJmu7CgNb8GAkszH) 1h ago\n",
    "📈Cost $0.32527 B/S:10/8\n",
    "⏳Holding $0(-- Sol) \n",
    "\n",
    "Laolu🧙‍♂️ (https://gmgn.ai/sol/address/4625pi6asX1CpKmw1apw3mnGxxntS7F95ALqhWLgVoCr) 1h ago\n",
    "📈Cost $0.1811 B/S:1/0\n",
    "⏳Holding $4947.4502(24.4403 Sol) \n",
    "\n",
    "More (https://gmgn.ai/sol/token/7oBYdEhV4GkXC19ZfgAvXpJWp2Rn9pm1Bx2cVNxFpump?wallet=3XbzGrkkhSC8FQ5CPgTXGXTMTZZaBPmCuWCvFhmfVTnN)\n",
    "\n",
    "🏆 TIP: Add GMGN Bot to your group and earn commissions! 💸 Add bot (https://t.me/Alert_GMGNBOT)\n",
    "\"\"\""
   ]
  },
  {
   "cell_type": "code",
   "execution_count": 48,
   "metadata": {},
   "outputs": [
    {
     "name": "stdout",
     "output_type": "stream",
     "text": [
      "num_kol_buy: 88\n",
      "token_name: Central African Republic Meme\n",
      "ca: 7oBYdEhV4GkXC19ZfgAvXpJWp2Rn9pm1Bx2cVNxFpump\n",
      "market_cap: 123800000.0\n",
      "liq: 2200000.0\n",
      "top_10: 7.03\n"
     ]
    }
   ],
   "source": [
    "import re\n",
    "\n",
    "def extract_keywords(text):\n",
    "    data = {}\n",
    "\n",
    "    # Patterns for extracting values\n",
    "    patterns = {\n",
    "        \"num_kol_buy\": r\"(\\d+)\\s*KOL Buy\",  # Extracts only the number\n",
    "        \"token_name\": r\"\\$\\w+\\(([^)]+)\\)\", # sticker name\n",
    "        \"ca\": r\"\\n([A-Za-z0-9]{42,46})\",  # Matches the full token address\n",
    "        \"market_cap\": r\"MCP:\\s*\\$?([\\w+\\.\\,]+)\",  # Extracts MCP value with suffix\n",
    "        \"liq\": r\"Liq:\\s*[\\d\\.\\,]+\\s*SOL\\s*\\(\\$([\\d\\.KMB]+)\",  # Extracts liquidity in $\n",
    "        \"top_10\": r\"TOP 10:\\s*(\\d+\\.\\d+%)\"  # Extracts TOP 10 value as percentage\n",
    "    }\n",
    "\n",
    "    # Extract values using regex\n",
    "    for key, pattern in patterns.items():\n",
    "        match = re.search(pattern, text)\n",
    "        if match:\n",
    "            value = match.groups()\n",
    "            if key == \"market_cap\":  \n",
    "                data[key] = string_to_float(value[0])  # Convert MCP\n",
    "            elif key == \"liq\":\n",
    "                data[key] = string_to_float(value[0])  # Convert Liquidity\n",
    "            elif key == \"top_10\":\n",
    "                data[key] = float(value[0].replace(\"%\", \"\"))  # Convert % to float\n",
    "            else:\n",
    "                data[key] = int(value[0]) if key == \"num_kol_buy\" else value[0]\n",
    "        else:\n",
    "            data[key] = None\n",
    "\n",
    "    return data\n",
    "\n",
    "def string_to_float(s):\n",
    "    multipliers = {\n",
    "        'k': 1_000,\n",
    "        'm': 1_000_000,\n",
    "        'b': 1_000_000_000,\n",
    "        't': 1_000_000_000_000\n",
    "    }\n",
    "    # Get the last character to determine the multiplier\n",
    "    suffix = str(s)[-1]\n",
    "    if suffix.isdigit():\n",
    "        # No multiplier suffix; directly convert to float\n",
    "        return float(s)\n",
    "    else:\n",
    "        # Extract the numeric part and apply the multiplier\n",
    "        try:\n",
    "            num = float(s[:-1])\n",
    "            multiplier = multipliers.get(suffix.lower(), 1)\n",
    "            return num * multiplier\n",
    "        except ValueError:\n",
    "            raise ValueError(f\"Cannot convert '{s}' to float.\")\n",
    "\n",
    "# Extract and print the values\n",
    "extracted_data = extract_keywords(text)\n",
    "for key, value in extracted_data.items():\n",
    "    print(f\"{key}: {value}\")\n"
   ]
  },
  {
   "cell_type": "code",
   "execution_count": 49,
   "metadata": {},
   "outputs": [
    {
     "name": "stdout",
     "output_type": "stream",
     "text": [
      "2025-02-10 09:52:30+11:00\n"
     ]
    }
   ],
   "source": [
    "from datetime import datetime\n",
    "import pytz\n",
    "\n",
    "def convert_unix_to_melbourne(unix_timestamp):\n",
    "    # Define GMT and Melbourne timezones\n",
    "    gmt_timezone = pytz.utc\n",
    "    melbourne_timezone = pytz.timezone(\"Australia/Melbourne\")\n",
    "\n",
    "    # Convert Unix timestamp (GMT) to datetime object\n",
    "    gmt_datetime = datetime.utcfromtimestamp(unix_timestamp).replace(tzinfo=gmt_timezone)\n",
    "\n",
    "    # Convert to Melbourne timezone\n",
    "    melbourne_datetime = gmt_datetime.astimezone(melbourne_timezone)\n",
    "\n",
    "    return melbourne_datetime\n",
    "\n",
    "# Example usage\n",
    "unix_timestamp = 1739141550  # Example Unix timestamp\n",
    "melbourne_time = convert_unix_to_melbourne(unix_timestamp)\n",
    "print(melbourne_time)  # Output: Local Melbourne time\n",
    "\n"
   ]
  },
  {
   "cell_type": "code",
   "execution_count": 50,
   "metadata": {},
   "outputs": [
    {
     "name": "stdout",
     "output_type": "stream",
     "text": [
      "Creator: alphashynobi, Total Interactions (24h): 5688, Total Followers: 50524\n",
      "Creator: CapoXrpl, Total Interactions (24h): 1394, Total Followers: 19306\n"
     ]
    }
   ],
   "source": [
    "from collections import defaultdict\n",
    "\n",
    "# Sample data\n",
    "tmp = [\n",
    "    {\n",
    "        'creator_name': 'alphashynobi',\n",
    "        'creator_followers': 50524,\n",
    "        'interactions_24h': 2688\n",
    "    },\n",
    "    {\n",
    "        'creator_name': 'CapoXrpl',\n",
    "        'creator_followers': 19306,\n",
    "        'interactions_24h': 1394\n",
    "    },\n",
    "    {\n",
    "        'creator_name': 'alphashynobi',\n",
    "        'creator_followers': 50524,\n",
    "        'interactions_24h': 3000\n",
    "    }\n",
    "]\n",
    "\n",
    "# Use defaultdict to aggregate total interactions and followers per creator\n",
    "totals = defaultdict(lambda: {'interactions_24h': 0, 'creator_followers': 0})\n",
    "\n",
    "# Aggregate data\n",
    "for post in tmp:\n",
    "    name = post['creator_name']\n",
    "    totals[name]['interactions_24h'] += post['interactions_24h']\n",
    "    totals[name]['creator_followers'] = max(totals[name]['creator_followers'], post['creator_followers'])\n",
    "\n",
    "# Display results\n",
    "for name, data in totals.items():\n",
    "    print(f\"Creator: {name}, Total Interactions (24h): {data['interactions_24h']}, Total Followers: {data['creator_followers']}\")\n"
   ]
  },
  {
   "cell_type": "code",
   "execution_count": null,
   "metadata": {},
   "outputs": [],
   "source": []
  }
 ],
 "metadata": {
  "kernelspec": {
   "display_name": "Python 3",
   "language": "python",
   "name": "python3"
  },
  "language_info": {
   "codemirror_mode": {
    "name": "ipython",
    "version": 3
   },
   "file_extension": ".py",
   "mimetype": "text/x-python",
   "name": "python",
   "nbconvert_exporter": "python",
   "pygments_lexer": "ipython3",
   "version": "3.10.9"
  }
 },
 "nbformat": 4,
 "nbformat_minor": 2
}
